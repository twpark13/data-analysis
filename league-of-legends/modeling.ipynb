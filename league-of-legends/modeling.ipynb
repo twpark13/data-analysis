{
 "cells": [
  {
   "cell_type": "code",
   "execution_count": 1,
   "id": "reflected-subscription",
   "metadata": {},
   "outputs": [
    {
     "name": "stderr",
     "output_type": "stream",
     "text": [
      "c:\\users\\evfox\\appdata\\local\\programs\\python\\python38\\lib\\site-packages\\xgboost\\compat.py:31: FutureWarning: pandas.Int64Index is deprecated and will be removed from pandas in a future version. Use pandas.Index with the appropriate dtype instead.\n",
      "  from pandas import MultiIndex, Int64Index\n"
     ]
    }
   ],
   "source": [
    "from sklearn.preprocessing import StandardScaler\n",
    "from sklearn.model_selection import train_test_split, StratifiedKFold, RandomizedSearchCV, GridSearchCV\n",
    "from sklearn.metrics import accuracy_score, classification_report\n",
    "from sklearn.ensemble import AdaBoostClassifier, BaggingClassifier, ExtraTreesClassifier, RandomForestClassifier,StackingClassifier\n",
    "from sklearn.linear_model import LogisticRegression\n",
    "from sklearn.gaussian_process import GaussianProcessClassifier\n",
    "from sklearn.naive_bayes import GaussianNB\n",
    "from xgboost import XGBClassifier\n",
    "from lightgbm import LGBMClassifier\n",
    "from sklearn.feature_selection import RFECV\n",
    "from sklearn.tree import DecisionTreeRegressor, plot_tree\n",
    "from sklearn.inspection import PartialDependenceDisplay\n",
    "import eli5\n",
    "import shap\n",
    "import numpy as np\n",
    "import pandas as pd\n",
    "import matplotlib.pyplot as plt\n",
    "import pickle\n",
    "import json\n",
    "import time\n",
    "import warnings\n",
    "warnings.filterwarnings('ignore')"
   ]
  },
  {
   "cell_type": "code",
   "execution_count": 2,
   "id": "brazilian-commissioner",
   "metadata": {},
   "outputs": [],
   "source": [
    "train = pd.read_csv('train.csv')\n",
    "test = pd.read_csv('test.csv')"
   ]
  },
  {
   "cell_type": "code",
   "execution_count": 3,
   "id": "macro-interference",
   "metadata": {},
   "outputs": [
    {
     "data": {
      "text/plain": [
       "(63000, 182)"
      ]
     },
     "execution_count": 3,
     "metadata": {},
     "output_type": "execute_result"
    }
   ],
   "source": [
    "train.shape"
   ]
  },
  {
   "cell_type": "code",
   "execution_count": 4,
   "id": "careful-velvet",
   "metadata": {},
   "outputs": [
    {
     "data": {
      "text/plain": [
       "(7000, 182)"
      ]
     },
     "execution_count": 4,
     "metadata": {},
     "output_type": "execute_result"
    }
   ],
   "source": [
    "test.shape"
   ]
  },
  {
   "cell_type": "markdown",
   "id": "generous-ukraine",
   "metadata": {},
   "source": [
    "## Baseline"
   ]
  },
  {
   "cell_type": "code",
   "execution_count": 5,
   "id": "classical-reggae",
   "metadata": {},
   "outputs": [
    {
     "data": {
      "text/plain": [
       "False"
      ]
     },
     "execution_count": 5,
     "metadata": {},
     "output_type": "execute_result"
    }
   ],
   "source": [
    "train.isna().any().any()"
   ]
  },
  {
   "cell_type": "code",
   "execution_count": 6,
   "id": "sixth-germany",
   "metadata": {},
   "outputs": [
    {
     "data": {
      "text/plain": [
       "False"
      ]
     },
     "execution_count": 6,
     "metadata": {},
     "output_type": "execute_result"
    }
   ],
   "source": [
    "test.isna().any().any()"
   ]
  },
  {
   "cell_type": "code",
   "execution_count": 7,
   "id": "robust-landscape",
   "metadata": {},
   "outputs": [
    {
     "data": {
      "text/plain": [
       "['blueTopChampionName',\n",
       " 'blueJungleChampionName',\n",
       " 'blueMiddleChampionName',\n",
       " 'blueBottomChampionName',\n",
       " 'blueUtilityChampionName',\n",
       " 'redTopChampionName',\n",
       " 'redJungleChampionName',\n",
       " 'redMiddleChampionName',\n",
       " 'redBottomChampionName',\n",
       " 'redUtilityChampionName',\n",
       " 'FirstBloodKiller',\n",
       " 'FirstBloodVictim']"
      ]
     },
     "execution_count": 7,
     "metadata": {},
     "output_type": "execute_result"
    }
   ],
   "source": [
    "[k for (k,v) in train.dtypes.to_dict().items() if v == 'O']"
   ]
  },
  {
   "cell_type": "code",
   "execution_count": 8,
   "id": "intelligent-candle",
   "metadata": {},
   "outputs": [],
   "source": [
    "teams = ['blue', 'red']\n",
    "positions = ['Top', 'Jungle', 'Middle', 'Bottom', 'Utility']\n",
    "\n",
    "for data in [train, test]:\n",
    "    data.drop(['FirstBloodKiller', 'FirstBloodVictim'], axis=1, inplace=True)\n",
    "    data.drop([f'{team}{pos}ChampionName' for team in teams for pos in positions], axis=1, inplace=True)"
   ]
  },
  {
   "cell_type": "code",
   "execution_count": 9,
   "id": "postal-caution",
   "metadata": {},
   "outputs": [],
   "source": [
    "y_train = train['blueWin'].to_numpy()\n",
    "train.drop('blueWin', axis=1, inplace=True)\n",
    "\n",
    "y_test = test['blueWin'].to_numpy()\n",
    "test.drop('blueWin', axis=1, inplace=True)"
   ]
  },
  {
   "cell_type": "code",
   "execution_count": 10,
   "id": "dying-census",
   "metadata": {},
   "outputs": [],
   "source": [
    "scaler = StandardScaler().fit(train)"
   ]
  },
  {
   "cell_type": "code",
   "execution_count": 11,
   "id": "difficult-blond",
   "metadata": {},
   "outputs": [],
   "source": [
    "X_train = scaler.transform(train)\n",
    "X_test = scaler.transform(test)"
   ]
  },
  {
   "cell_type": "code",
   "execution_count": 12,
   "id": "julian-hacker",
   "metadata": {},
   "outputs": [],
   "source": [
    "def reduce_mem_usage(df, verbose=True):\n",
    "    numerics = ['int8','int16', 'int32', 'int64', 'float16', 'float32', 'float64']\n",
    "    start_mem = df.memory_usage().sum() / 1024**2    \n",
    "    for col in df.columns:\n",
    "        col_type = df[col].dtypes\n",
    "        if col_type in numerics:\n",
    "            c_min = df[col].min()\n",
    "            c_max = df[col].max()\n",
    "            if str(col_type)[:3] == 'int':\n",
    "                if c_min > np.iinfo(np.int8).min and c_max < np.iinfo(np.int8).max:\n",
    "                    df[col] = df[col].astype(np.int8)\n",
    "                elif c_min > np.iinfo(np.int16).min and c_max < np.iinfo(np.int16).max:\n",
    "                    df[col] = df[col].astype(np.int16)\n",
    "                elif c_min > np.iinfo(np.int32).min and c_max < np.iinfo(np.int32).max:\n",
    "                    df[col] = df[col].astype(np.int32)\n",
    "                elif c_min > np.iinfo(np.int64).min and c_max < np.iinfo(np.int64).max:\n",
    "                    df[col] = df[col].astype(np.int64)  \n",
    "            else:\n",
    "                if c_min > np.finfo(np.float16).min and c_max < np.finfo(np.float16).max:\n",
    "                    df[col] = df[col].astype(np.float16)\n",
    "                elif c_min > np.finfo(np.float32).min and c_max < np.finfo(np.float32).max:\n",
    "                    df[col] = df[col].astype(np.float32)\n",
    "                else:\n",
    "                    df[col] = df[col].astype(np.float64)    \n",
    "    end_mem = df.memory_usage().sum() / 1024**2\n",
    "    if verbose: print('Mem. usage decreased to {:5.2f} Mb ({:.1f}% reduction)'.format(end_mem, 100 * (start_mem - end_mem) / start_mem))\n",
    "    return df"
   ]
  },
  {
   "cell_type": "code",
   "execution_count": 13,
   "id": "victorian-force",
   "metadata": {},
   "outputs": [
    {
     "name": "stdout",
     "output_type": "stream",
     "text": [
      "Mem. usage decreased to 12.44 Mb (84.7% reduction)\n",
      "Mem. usage decreased to  1.40 Mb (84.5% reduction)\n"
     ]
    }
   ],
   "source": [
    "train = reduce_mem_usage(train)\n",
    "test = reduce_mem_usage(test)"
   ]
  },
  {
   "cell_type": "code",
   "execution_count": 14,
   "id": "armed-weight",
   "metadata": {},
   "outputs": [],
   "source": [
    "folds = StratifiedKFold(n_splits=10, shuffle=True, random_state=0)"
   ]
  },
  {
   "cell_type": "code",
   "execution_count": 15,
   "id": "lyric-newspaper",
   "metadata": {},
   "outputs": [],
   "source": [
    "def train_model(X_train, y_train, model, folds=folds, verbose=1, predict=False, X_test=None):\n",
    "    \n",
    "    if predict:\n",
    "        prediction = np.zeros(len(X_test))\n",
    "        \n",
    "    scores_train = []\n",
    "    scores_valid = []\n",
    "    \n",
    "    for fold_n, (train_index, valid_index) in enumerate(folds.split(X_train, y_train)):\n",
    "        start_time = time.time()\n",
    "        X_train_fold, X_valid_fold = X_train[train_index], X_train[valid_index]\n",
    "        y_train_fold, y_valid_fold = y_train[train_index], y_train[valid_index]\n",
    "        \n",
    "        model.fit(X_train_fold, y_train_fold)\n",
    "        y_pred_train = model.predict(X_train_fold).reshape(-1,)\n",
    "        train_score = accuracy_score(y_train_fold, y_pred_train)\n",
    "        scores_train.append(train_score)\n",
    "        \n",
    "        y_pred_valid = model.predict(X_valid_fold).reshape(-1,)\n",
    "        valid_score = accuracy_score(y_valid_fold, y_pred_valid)\n",
    "        scores_valid.append(valid_score)\n",
    "\n",
    "        if predict:\n",
    "            y_pred = model.predict_proba(X_test)[:, 1]\n",
    "            prediction += y_pred\n",
    "            \n",
    "        if verbose >= 2:\n",
    "            print(f'Fold {fold_n} train completed. Score:{valid_score:.4f} Time elapsed: {time.time()-start_time:.2f} sec')\n",
    "            \n",
    "        \n",
    "    if predict:\n",
    "        prediction /= folds.get_n_splits()\n",
    "        \n",
    "    if verbose >= 1:\n",
    "        print(f'Mean train accuracy: {np.mean(scores_train):.4f}, std: {np.std(scores_train):.4f}.')\n",
    "        print(f'Mean valid accuracy: {np.mean(scores_valid):.4f}, std: {np.std(scores_valid):.4f}.')\n",
    "\n",
    "    \n",
    "    return (np.mean(scores_valid), prediction) if predict else np.mean(scores_valid)"
   ]
  },
  {
   "cell_type": "markdown",
   "id": "assisted-stevens",
   "metadata": {},
   "source": [
    "KNN, SVC, Gradient Boosting Classifier 등도 사용해 보았으나 다른 모델들에 비해 training에 과도한 시간을 소모하여 제외하였다."
   ]
  },
  {
   "cell_type": "code",
   "execution_count": 16,
   "id": "relative-reminder",
   "metadata": {},
   "outputs": [],
   "source": [
    "models = {\n",
    "    'Random Forest':RandomForestClassifier(n_jobs=-1), \n",
    "    'Logistic Regression':LogisticRegression(n_jobs=-1), \n",
    "    'XGBoost':XGBClassifier(eval_metric='logloss', n_jobs=-1),\n",
    "    'LightGBM':LGBMClassifier(n_jobs=-1), \n",
    "    'Extra Trees':ExtraTreesClassifier(n_jobs=-1), \n",
    "    'AdaBoost':AdaBoostClassifier(),\n",
    "    'Bagging Classifier':BaggingClassifier(n_jobs=-1),\n",
    "    'Gaussian Naive Bayes':GaussianNB()\n",
    "}"
   ]
  },
  {
   "cell_type": "code",
   "execution_count": 17,
   "id": "yellow-accommodation",
   "metadata": {},
   "outputs": [
    {
     "name": "stdout",
     "output_type": "stream",
     "text": [
      "Random Forest\n",
      "Mean train accuracy: 1.0000, std: 0.0000.\n",
      "Mean valid accuracy: 0.7868, std: 0.0038.\n",
      "Time Spent: 81.580 sec\n",
      "\n",
      "Logistic Regression\n",
      "Mean train accuracy: 0.7957, std: 0.0007.\n",
      "Mean valid accuracy: 0.7943, std: 0.0044.\n",
      "Time Spent: 199.873 sec\n",
      "\n",
      "XGBoost\n",
      "Mean train accuracy: 0.8792, std: 0.0015.\n",
      "Mean valid accuracy: 0.7819, std: 0.0054.\n",
      "Time Spent: 131.174 sec\n",
      "\n",
      "LightGBM\n",
      "Mean train accuracy: 0.8235, std: 0.0005.\n",
      "Mean valid accuracy: 0.7894, std: 0.0042.\n",
      "Time Spent: 22.615 sec\n",
      "\n",
      "Extra Trees\n",
      "Mean train accuracy: 1.0000, std: 0.0000.\n",
      "Mean valid accuracy: 0.7829, std: 0.0038.\n",
      "Time Spent: 62.767 sec\n",
      "\n",
      "AdaBoost\n",
      "Mean train accuracy: 0.7807, std: 0.0005.\n",
      "Mean valid accuracy: 0.7784, std: 0.0034.\n",
      "Time Spent: 232.751 sec\n",
      "\n",
      "Bagging Classifier\n",
      "Mean train accuracy: 0.9878, std: 0.0005.\n",
      "Mean valid accuracy: 0.7556, std: 0.0053.\n",
      "Time Spent: 156.104 sec\n",
      "\n",
      "Gaussian Naive Bayes\n",
      "Mean train accuracy: 0.7807, std: 0.0006.\n",
      "Mean valid accuracy: 0.7802, std: 0.0044.\n",
      "Time Spent: 4.224 sec\n",
      "\n"
     ]
    }
   ],
   "source": [
    "baseline_results = {\n",
    "    'model':[],\n",
    "    'time_spent':[],\n",
    "    'mean_valid_accuracy':[]\n",
    "}\n",
    "\n",
    "for name, model in models.items():\n",
    "    baseline_results['model'].append(name)\n",
    "    print(name)\n",
    "    \n",
    "    start_time = time.time()\n",
    "    acc = train_model(X_train, y_train, model=model)\n",
    "    end_time = time.time()\n",
    "    \n",
    "    baseline_results['mean_valid_accuracy'].append(acc)\n",
    "    baseline_results['time_spent'].append(end_time-start_time)\n",
    "    \n",
    "    print(f'Time Spent: {end_time-start_time:.3f} sec')\n",
    "    print('')\n",
    "\n",
    "baseline_results = pd.DataFrame(baseline_results).sort_values('mean_valid_accuracy', ascending=False)"
   ]
  },
  {
   "cell_type": "code",
   "execution_count": 18,
   "id": "enormous-paradise",
   "metadata": {},
   "outputs": [
    {
     "data": {
      "text/html": [
       "<div>\n",
       "<style scoped>\n",
       "    .dataframe tbody tr th:only-of-type {\n",
       "        vertical-align: middle;\n",
       "    }\n",
       "\n",
       "    .dataframe tbody tr th {\n",
       "        vertical-align: top;\n",
       "    }\n",
       "\n",
       "    .dataframe thead th {\n",
       "        text-align: right;\n",
       "    }\n",
       "</style>\n",
       "<table border=\"1\" class=\"dataframe\">\n",
       "  <thead>\n",
       "    <tr style=\"text-align: right;\">\n",
       "      <th></th>\n",
       "      <th>model</th>\n",
       "      <th>time_spent</th>\n",
       "      <th>mean_valid_accuracy</th>\n",
       "    </tr>\n",
       "  </thead>\n",
       "  <tbody>\n",
       "    <tr>\n",
       "      <th>1</th>\n",
       "      <td>Logistic Regression</td>\n",
       "      <td>199.872734</td>\n",
       "      <td>0.794302</td>\n",
       "    </tr>\n",
       "    <tr>\n",
       "      <th>3</th>\n",
       "      <td>LightGBM</td>\n",
       "      <td>22.615420</td>\n",
       "      <td>0.789381</td>\n",
       "    </tr>\n",
       "    <tr>\n",
       "      <th>0</th>\n",
       "      <td>Random Forest</td>\n",
       "      <td>81.579647</td>\n",
       "      <td>0.786762</td>\n",
       "    </tr>\n",
       "    <tr>\n",
       "      <th>4</th>\n",
       "      <td>Extra Trees</td>\n",
       "      <td>62.766943</td>\n",
       "      <td>0.782889</td>\n",
       "    </tr>\n",
       "    <tr>\n",
       "      <th>2</th>\n",
       "      <td>XGBoost</td>\n",
       "      <td>131.174336</td>\n",
       "      <td>0.781873</td>\n",
       "    </tr>\n",
       "    <tr>\n",
       "      <th>7</th>\n",
       "      <td>Gaussian Naive Bayes</td>\n",
       "      <td>4.223735</td>\n",
       "      <td>0.780190</td>\n",
       "    </tr>\n",
       "    <tr>\n",
       "      <th>5</th>\n",
       "      <td>AdaBoost</td>\n",
       "      <td>232.750723</td>\n",
       "      <td>0.778444</td>\n",
       "    </tr>\n",
       "    <tr>\n",
       "      <th>6</th>\n",
       "      <td>Bagging Classifier</td>\n",
       "      <td>156.103979</td>\n",
       "      <td>0.755635</td>\n",
       "    </tr>\n",
       "  </tbody>\n",
       "</table>\n",
       "</div>"
      ],
      "text/plain": [
       "                  model  time_spent  mean_valid_accuracy\n",
       "1   Logistic Regression  199.872734             0.794302\n",
       "3              LightGBM   22.615420             0.789381\n",
       "0         Random Forest   81.579647             0.786762\n",
       "4           Extra Trees   62.766943             0.782889\n",
       "2               XGBoost  131.174336             0.781873\n",
       "7  Gaussian Naive Bayes    4.223735             0.780190\n",
       "5              AdaBoost  232.750723             0.778444\n",
       "6    Bagging Classifier  156.103979             0.755635"
      ]
     },
     "execution_count": 18,
     "metadata": {},
     "output_type": "execute_result"
    }
   ],
   "source": [
    "baseline_results"
   ]
  },
  {
   "cell_type": "markdown",
   "id": "suitable-burton",
   "metadata": {},
   "source": [
    "추가적인 feature selection 및 hyperparameter tuning을 진행하지 않은 상태로 학습을 진행한 결과, valid set에서 최대 0.7943의 mean accuracy를 기록했다."
   ]
  },
  {
   "cell_type": "markdown",
   "id": "governing-pakistan",
   "metadata": {},
   "source": [
    "### Feature Selection"
   ]
  },
  {
   "cell_type": "code",
   "execution_count": 19,
   "id": "formal-albert",
   "metadata": {},
   "outputs": [],
   "source": [
    "train = pd.read_csv('train.csv')\n",
    "test = pd.read_csv('test.csv')"
   ]
  },
  {
   "cell_type": "code",
   "execution_count": 20,
   "id": "administrative-baseline",
   "metadata": {},
   "outputs": [],
   "source": [
    "teams = ['blue', 'red']\n",
    "positions = ['Top', 'Jungle', 'Middle', 'Bottom', 'Utility']\n",
    "locations = ['Outer', 'Inner', 'Base']\n",
    "buildings = [loc +'Turret' for loc in locations] + ['Inhibitor', 'NexusTurret']\n",
    "lanes = ['Top', 'Mid', 'Bot']\n",
    "dragons = ['Air', 'Earth', 'Fire', 'Hextech', 'Water']\n",
    "win = [True, False]"
   ]
  },
  {
   "cell_type": "code",
   "execution_count": 21,
   "id": "later-symphony",
   "metadata": {},
   "outputs": [],
   "source": [
    "def search(*args, data=train):\n",
    "    cmd = []\n",
    "\n",
    "    for arg in args:\n",
    "        arg = arg.split('|') if '|' in arg else arg\n",
    "\n",
    "        if type(arg) == str:\n",
    "            cmd.append(f'(\"{arg[arg[0]==\"~\":]}\" {\"not \" if arg[0] == \"~\" else \"\"}in col)')\n",
    "\n",
    "        else:\n",
    "            concat = ' | '.join(f'(\"{word[word[0]==\"~\":]}\" {\"not \" if word[0] == \"~\" else \"\"}in col)' for word in arg)\n",
    "            cmd.append(f'({concat})')\n",
    "    \n",
    "\n",
    "    return [col for col in data.columns if eval(' & '.join(cmd))]"
   ]
  },
  {
   "cell_type": "markdown",
   "id": "institutional-stake",
   "metadata": {},
   "source": [
    "#### Building"
   ]
  },
  {
   "cell_type": "code",
   "execution_count": 22,
   "id": "interior-glucose",
   "metadata": {},
   "outputs": [],
   "source": [
    "for data in [train, test]:\n",
    "    for team in teams:\n",
    "        for loc in locations:\n",
    "            data[f'{team}{loc}TurretLost'] = data[[f'{team}{loc}{lane}TurretLost' for lane in lanes]].sum(axis=1)\n",
    "\n",
    "\n",
    "    for loc in locations[:-1]:\n",
    "        data[f'blue{loc}TurretDiff'] = data[f'red{loc}TurretLost'] - data[f'blue{loc}TurretLost']\n",
    "        \n",
    "        \n",
    "    for lane in lanes:\n",
    "        data[f'blueOuter{lane}TurretDiff'] = data[f'redOuter{lane}TurretLost'] - data[f'blueOuter{lane}TurretLost']\n",
    "#        data[f'blue{lane}TurretDiff'] = data[[f'red{loc}{lane}TurretLost' for loc in locations]].sum(axis=1) - data[[f'blue{loc}{lane}TurretLost' for loc in locations]].sum(axis=1)\n",
    "\n",
    "\n",
    "    data[f'blueInnerBuildingDiff'] = data[[f'red{building}Lost' for building in buildings[-2:]]].sum(axis=1) - data[[f'blue{building}Lost' for building in buildings[-2:]]].sum(axis=1)\n",
    "    \n",
    "    \n",
    "    for team in teams:\n",
    "        data[f'{team}TotalBuildingLost'] = data[[f'{team}{building}Lost' for building in buildings]].sum(axis=1)\n",
    "\n",
    "\n",
    "    data['blueTotalBuildingDiff'] = data[[f'red{building}Lost' for building in buildings]].sum(axis=1) - data[[f'blue{building}Lost' for building in buildings]].sum(axis=1)\n",
    "\n",
    "    data.drop([f'{team}{building}Lost' for team in teams for building in buildings], axis=1, inplace=True)\n",
    "    data.drop([f'{team}{loc}{lane}TurretLost' for team in teams for loc in locations for lane in lanes], axis=1, inplace=True)\n",
    "    data.drop([f'{team}TotalBuildingLost' for team in teams], axis=1, inplace=True)"
   ]
  },
  {
   "cell_type": "code",
   "execution_count": 23,
   "id": "trained-wages",
   "metadata": {},
   "outputs": [
    {
     "data": {
      "text/plain": [
       "['blueOuterTurretDiff',\n",
       " 'blueInnerTurretDiff',\n",
       " 'blueOuterTopTurretDiff',\n",
       " 'blueOuterMidTurretDiff',\n",
       " 'blueOuterBotTurretDiff',\n",
       " 'blueInnerBuildingDiff',\n",
       " 'blueTotalBuildingDiff']"
      ]
     },
     "execution_count": 23,
     "metadata": {},
     "output_type": "execute_result"
    }
   ],
   "source": [
    "search('Building|Turret|Inhibitor')"
   ]
  },
  {
   "cell_type": "markdown",
   "id": "mexican-immune",
   "metadata": {},
   "source": [
    "`blueOuterTurretDiff`: 블루팀이 파괴한 1차 포탑 - 레드팀이 파괴한 1차 포탑\n",
    "\n",
    "`blueInnerTurretDiff`: 블루팀이 파괴한 2차 포탑 - 레드팀이 파괴한 2차 포탑\n",
    "\n",
    "`blueInnerBuildingDiff`: (블루팀이 파괴한 억제기 포탑 + 억제기 + 넥서스 포탑) - (레드팀이 파괴한 억제기 포탑 + 억제기 + 넥서스 포탑)\n",
    "\n",
    "`blueOuterTopTurretDiff`: 블루팀이 파괴한 1차 탑 라인 포탑 - 레드팀이 파괴한 1차 탑 라인 포탑\n",
    "\n",
    "`blueOuterMidTurretDiff`: 블루팀이 파괴한 1차 미드 라인 포탑 - 레드팀이 파괴한 1차 미드 라인 포탑\n",
    "\n",
    "`blueOuterBotTurretDiff`: 블루팀이 파괴한 1차 바텀 라인 포탑 - 레드팀이 파괴한 1차 바텀 라인 포탑\n",
    "\n",
    "`blueTotalBuildingDiff` : 블루팀이 파괴한 전체 건물 수 - 레드팀이 파괴한 전체 건물 수"
   ]
  },
  {
   "cell_type": "markdown",
   "id": "soviet-optics",
   "metadata": {},
   "source": [
    "#### Ace, Dragon, Herald"
   ]
  },
  {
   "cell_type": "code",
   "execution_count": 24,
   "id": "dressed-mainstream",
   "metadata": {},
   "outputs": [],
   "source": [
    "for data in [train, test]:\n",
    "    for obj in ['Ace', 'Herald', 'TotalDragon']:\n",
    "        data[f'blue{obj}KillDiff'] = data[f'blue{obj}Kill'] - data[f'red{obj}Kill']\n",
    "        data.drop([f'blue{obj}Kill', f'red{obj}Kill'], axis=1, inplace=True)\n",
    "        \n",
    "    for dragon in dragons:\n",
    "        data.drop([f'blue{dragon}DragonKill', f'red{dragon}DragonKill'], axis=1, inplace=True)        "
   ]
  },
  {
   "cell_type": "code",
   "execution_count": 25,
   "id": "external-gauge",
   "metadata": {},
   "outputs": [
    {
     "data": {
      "text/plain": [
       "['blueAceKillDiff', 'blueHeraldKillDiff', 'blueTotalDragonKillDiff']"
      ]
     },
     "execution_count": 25,
     "metadata": {},
     "output_type": "execute_result"
    }
   ],
   "source": [
    "search('Herald|Dragon|Ace')"
   ]
  },
  {
   "cell_type": "markdown",
   "id": "designed-privacy",
   "metadata": {},
   "source": [
    "`blueAceKillDiff`: 블루팀이 기록한 에이스 - 레드팀이 기록한 에이스\n",
    "\n",
    "`blueHeraldKillDiff`: 블루팀이 처치한 전령 - 레드팀이 처치한 전령\n",
    "\n",
    "`blueTotalDragonKillDiff`: 블루팀이 처치한 드래곤 - 레드팀이 처치한 드래곤"
   ]
  },
  {
   "cell_type": "markdown",
   "id": "mighty-chassis",
   "metadata": {},
   "source": [
    "#### CS"
   ]
  },
  {
   "cell_type": "code",
   "execution_count": 26,
   "id": "sorted-encounter",
   "metadata": {},
   "outputs": [],
   "source": [
    "for data in [train, test]:\n",
    "    for team in teams:\n",
    "        for pos in positions:\n",
    "            data[f'{team}{pos}CS'] = data[f'{team}{pos}MinionsKilled'] + data[f'{team}{pos}JungleMinionsKilled']\n",
    "            data.drop([f'{team}{pos}MinionsKilled', f'{team}{pos}JungleMinionsKilled'], axis=1, inplace=True)\n",
    "\n",
    "        data[f'{team}TotalCS'] = data[[f'{team}{pos}CS' for pos in positions]].sum(axis=1)\n",
    "        \n",
    "        \n",
    "    for pos in positions:\n",
    "        data[f'blue{pos}CSDiff'] = data[f'blue{pos}CS'] - data[f'red{pos}CS']      \n",
    "\n",
    "\n",
    "    data['blueTotalCSDiff'] = data['blueTotalCS'] - data['redTotalCS']\n",
    "    data.drop([f'{team}{pos}CS' for team in teams for pos in positions], axis=1, inplace=True) #\n",
    "    data.drop([f'{team}TotalCS' for team in teams], axis=1, inplace=True)\n",
    "    #data.drop([f'{team}UtilityCS' for team in teams], axis=1, inplace=True) #"
   ]
  },
  {
   "cell_type": "code",
   "execution_count": 27,
   "id": "portuguese-spiritual",
   "metadata": {},
   "outputs": [
    {
     "data": {
      "text/plain": [
       "['blueTopCSDiff',\n",
       " 'blueJungleCSDiff',\n",
       " 'blueMiddleCSDiff',\n",
       " 'blueBottomCSDiff',\n",
       " 'blueUtilityCSDiff',\n",
       " 'blueTotalCSDiff']"
      ]
     },
     "execution_count": 27,
     "metadata": {},
     "output_type": "execute_result"
    }
   ],
   "source": [
    "search('CS')"
   ]
  },
  {
   "cell_type": "markdown",
   "id": "welsh-middle",
   "metadata": {},
   "source": [
    "`blue{position}CSDiff`: 블루팀 해당 포지션이 획득한 CS - 레드팀 해당 포지션이 획득한 CS\n",
    "\n",
    "`blueTotalCSDiff`: 블루팀 전체 CS - 레드팀 전체 CS"
   ]
  },
  {
   "cell_type": "markdown",
   "id": "unique-gnome",
   "metadata": {},
   "source": [
    "#### Gold"
   ]
  },
  {
   "cell_type": "code",
   "execution_count": 28,
   "id": "solved-coating",
   "metadata": {},
   "outputs": [],
   "source": [
    "for data in [train, test]:\n",
    "    \n",
    "    for team in teams:\n",
    "        data[f'{team}TotalGold'] = data[[f'{team}{pos}TotalGold' for pos in positions]].sum(axis=1)\n",
    "        \n",
    "#        for pos in positions:\n",
    "#            data[f'{team}{pos}GoldProportion'] = data[f'{team}{pos}TotalGold'] / data[f'{team}TotalGold']\n",
    "        \n",
    "#        data[f'{team}GoldProportionStd'] = data[[f'{team}{pos}GoldProportion' for pos in positions]].std(axis=1)\n",
    "\n",
    "    data['blueTotalGoldDiff'] = data['blueTotalGold'] - data['redTotalGold']\n",
    "    data.drop(['blueTotalGold', 'redTotalGold'], axis=1, inplace=True)\n",
    "    \n",
    "    \n",
    "    for pos in positions:\n",
    "        data[f'blue{pos}GoldDiff'] = data[f'blue{pos}TotalGold'] - data[f'red{pos}TotalGold']\n",
    "        \n",
    "    \n",
    "#    for team in teams:\n",
    "#        goldmax, goldmin = [], []\n",
    "#        \n",
    "#        for k, v in data[[f'{team}{pos}TotalGold' for pos in positions]].T.to_dict().items():\n",
    "#            col = sorted(v.items(), key=lambda x: x[1])\n",
    "#            goldmax.append(col[-1][0][3+(team=='blue'):-9])\n",
    "#            goldmin.append(col[0][0][3+(team=='blue'):-9])\n",
    "\n",
    "#        data[f'{team}GoldMaxIsUtility'] = (pd.DataFrame(goldmax) == 'Utility')\n",
    "#        data[f'{team}GoldMinIsBottom'] = (pd.DataFrame(goldmin) == 'Bottom')\n",
    "        \n",
    "    data.drop([f'{team}{pos}TotalGold' for team in teams for pos in positions], axis=1, inplace=True) #"
   ]
  },
  {
   "cell_type": "code",
   "execution_count": 29,
   "id": "curious-command",
   "metadata": {
    "scrolled": false
   },
   "outputs": [
    {
     "data": {
      "text/plain": [
       "['blueTotalGoldDiff',\n",
       " 'blueTopGoldDiff',\n",
       " 'blueJungleGoldDiff',\n",
       " 'blueMiddleGoldDiff',\n",
       " 'blueBottomGoldDiff',\n",
       " 'blueUtilityGoldDiff']"
      ]
     },
     "execution_count": 29,
     "metadata": {},
     "output_type": "execute_result"
    }
   ],
   "source": [
    "search('Gold')"
   ]
  },
  {
   "cell_type": "markdown",
   "id": "experienced-calgary",
   "metadata": {},
   "source": [
    "`blue{position}GoldDiff`: 블루팀 해당 포지션이 획득한 골드 - 레드팀 해당 포지션이 획득한 골드\n",
    "\n",
    "`blueTotalGoldDiff`: 블루팀 전체 획득 골드 - 레드팀 전체 획득 골드"
   ]
  },
  {
   "cell_type": "markdown",
   "id": "progressive-invite",
   "metadata": {},
   "source": [
    "#### KDA"
   ]
  },
  {
   "cell_type": "code",
   "execution_count": 30,
   "id": "advance-absence",
   "metadata": {},
   "outputs": [],
   "source": [
    "for data in [train, test]:\n",
    "    for team in teams:\n",
    "        data[f'{team}KDA3'] = data[[f'{team}{pos}Kill' for pos in positions]].sum(axis=1) + data[[f'{team}{pos}Assist' for pos in positions]].sum(axis=1) - data[[f'{team}{pos}Death' for pos in positions]].sum(axis=1) * 1.5\n",
    "        \n",
    "        for pos in positions:\n",
    "            data[f'{team}{pos}KDA3'] = (data[f'{team}{pos}Kill'] + data[f'{team}{pos}Assist']) - data[f'{team}{pos}Death'] * 1.5\n",
    "    \n",
    "    data.drop([f'{team}{pos}Kill' for team in teams for pos in positions], axis=1, inplace=True) #\n",
    "    data.drop([f'{team}{pos}Death' for team in teams for pos in positions], axis=1, inplace=True) #\n",
    "    data.drop([f'{team}{pos}Assist' for team in teams for pos in positions], axis=1, inplace=True) #\n",
    "    data.drop([f'{team}{pos}SoloKill' for team in teams for pos in positions], axis=1, inplace=True)\n",
    "    data.drop([f'{team}{pos}SoloKillVictim' for team in teams for pos in positions], axis=1, inplace=True)"
   ]
  },
  {
   "cell_type": "code",
   "execution_count": 31,
   "id": "hairy-paraguay",
   "metadata": {},
   "outputs": [
    {
     "data": {
      "text/plain": [
       "['blueFirstBloodKill',\n",
       " 'blueKDA3',\n",
       " 'blueTopKDA3',\n",
       " 'blueJungleKDA3',\n",
       " 'blueMiddleKDA3',\n",
       " 'blueBottomKDA3',\n",
       " 'blueUtilityKDA3',\n",
       " 'redKDA3',\n",
       " 'redTopKDA3',\n",
       " 'redJungleKDA3',\n",
       " 'redMiddleKDA3',\n",
       " 'redBottomKDA3',\n",
       " 'redUtilityKDA3']"
      ]
     },
     "execution_count": 31,
     "metadata": {},
     "output_type": "execute_result"
    }
   ],
   "source": [
    "search('Kill|Death|Assist|KDA', '~Dragon', '~Ward', '~Herald', '~Ace', '~Killer')"
   ]
  },
  {
   "cell_type": "markdown",
   "id": "shaped-enhancement",
   "metadata": {},
   "source": [
    "`blueFirstBloodKill`: 블루팀의 퍼스트 블러드 획득 여부\n",
    "\n",
    "`{team}KDA3`: 해당 팀 전체 킬 + 어시스트 - 1.5 * 데스\n",
    "\n",
    "`{team}{position}KDA3`: 해당 팀 해당 포지션의 킬 + 어시스트 - 1.5 * 데스"
   ]
  },
  {
   "cell_type": "markdown",
   "id": "respiratory-threat",
   "metadata": {},
   "source": [
    "#### Level"
   ]
  },
  {
   "cell_type": "code",
   "execution_count": 32,
   "id": "indonesian-storm",
   "metadata": {},
   "outputs": [],
   "source": [
    "for data in [train, test]:\n",
    "    for pos in positions:\n",
    "        data[f'blue{pos}LevelDiff'] = data[f'blue{pos}Level'] - data[f'red{pos}Level']\n",
    "    for team in teams:\n",
    "        data[f'{team}TotalLevel'] = data[[f'{team}{pos}Level' for pos in positions]].sum(axis=1)\n",
    "\n",
    "    data['blueTotalLevelDiff'] = data['blueTotalLevel'] - data['redTotalLevel']\n",
    "    data.drop([f'{team}{pos}Level' for team in teams for pos in positions], axis=1, inplace=True) #\n",
    "    data.drop(['blueTotalLevel', 'redTotalLevel'], axis=1, inplace=True)"
   ]
  },
  {
   "cell_type": "code",
   "execution_count": 33,
   "id": "respected-place",
   "metadata": {},
   "outputs": [
    {
     "data": {
      "text/plain": [
       "['blueTopLevelDiff',\n",
       " 'blueJungleLevelDiff',\n",
       " 'blueMiddleLevelDiff',\n",
       " 'blueBottomLevelDiff',\n",
       " 'blueUtilityLevelDiff',\n",
       " 'blueTotalLevelDiff']"
      ]
     },
     "execution_count": 33,
     "metadata": {},
     "output_type": "execute_result"
    }
   ],
   "source": [
    "search('Level')"
   ]
  },
  {
   "cell_type": "markdown",
   "id": "competent-stack",
   "metadata": {},
   "source": [
    "`blue{position}LevelDiff`: 블루팀 해당 포지션의 레벨 - 레드팀 해당 포지션의 레벨\n",
    "\n",
    "`blueTotalLevelDiff`: 블루팀 전체 레벨 합 - 레드팀 전체 레벨 합"
   ]
  },
  {
   "cell_type": "markdown",
   "id": "adopted-network",
   "metadata": {},
   "source": [
    "#### Damage"
   ]
  },
  {
   "cell_type": "code",
   "execution_count": 34,
   "id": "viral-james",
   "metadata": {},
   "outputs": [],
   "source": [
    "for data in [train, test]:\n",
    "    data['blueTotalDamageDoneDiff'] = data[[f'blue{pos}TotalDamageDoneToChampions' for pos in positions]].sum(axis=1) - data[[f'red{pos}TotalDamageDoneToChampions' for pos in positions]].sum(axis=1)\n",
    "    data['blueTotalDamageTakenDiff'] = data[[f'blue{pos}TotalDamageTaken' for pos in positions]].sum(axis=1) - data[[f'red{pos}TotalDamageTaken' for pos in positions]].sum(axis=1)\n",
    "    \n",
    "    for team in teams:\n",
    "        for pos in positions:\n",
    "            data[f'{team}{pos}TotalDamageDiff'] = data[f'{team}{pos}TotalDamageDoneToChampions'] - data[f'{team}{pos}TotalDamageTaken']\n",
    "    \n",
    "    data.drop(\n",
    "        [f'{team}{pos}{kind}' for team in teams for pos in ['Top', 'Jungle', 'Middle', 'Utility'] for kind in ['TotalDamageDoneToChampions', 'TotalDamageTaken']], \n",
    "        axis=1, inplace=True\n",
    "    ) #"
   ]
  },
  {
   "cell_type": "code",
   "execution_count": 35,
   "id": "cardiac-inspiration",
   "metadata": {},
   "outputs": [
    {
     "data": {
      "text/plain": [
       "['blueBottomTotalDamageDoneToChampions',\n",
       " 'blueBottomTotalDamageTaken',\n",
       " 'redBottomTotalDamageDoneToChampions',\n",
       " 'redBottomTotalDamageTaken',\n",
       " 'blueTotalDamageDoneDiff',\n",
       " 'blueTotalDamageTakenDiff',\n",
       " 'blueTopTotalDamageDiff',\n",
       " 'blueJungleTotalDamageDiff',\n",
       " 'blueMiddleTotalDamageDiff',\n",
       " 'blueBottomTotalDamageDiff',\n",
       " 'blueUtilityTotalDamageDiff',\n",
       " 'redTopTotalDamageDiff',\n",
       " 'redJungleTotalDamageDiff',\n",
       " 'redMiddleTotalDamageDiff',\n",
       " 'redBottomTotalDamageDiff',\n",
       " 'redUtilityTotalDamageDiff']"
      ]
     },
     "execution_count": 35,
     "metadata": {},
     "output_type": "execute_result"
    }
   ],
   "source": [
    "search('Damage')"
   ]
  },
  {
   "cell_type": "markdown",
   "id": "original-catholic",
   "metadata": {},
   "source": [
    "`{team}BottomTotalDamageDoneToChampions`: 해당 팀 원딜 포지션이 챔피언에게 가한 데미지\n",
    "\n",
    "`{team}BottomTotalDamageTaken`: 해당 팀 원딜 포지션이 받은 데미지\n",
    "\n",
    "`blue{position}DamageDoneDiff`: 블루팀 해당 포지션이 챔피언에게 가한 데미지 - 레드팀 해당 포지션이 챔피언에게 가한 데미지\n",
    "\n",
    "`blue{position}DamageTakenDiff`: 블루팀 해당 포지션이 받은 데미지 - 레드팀 해당 포지션이 받은 데미지\n",
    "\n",
    "`{team}{position}DamageDiff`: 해당 팀 해당 포지션이 챔피언에게 가한 데미지 - 받은 데미지"
   ]
  },
  {
   "cell_type": "markdown",
   "id": "bearing-monte",
   "metadata": {},
   "source": [
    "#### Ward"
   ]
  },
  {
   "cell_type": "code",
   "execution_count": 36,
   "id": "durable-century",
   "metadata": {},
   "outputs": [],
   "source": [
    "for data in [train, test]:\n",
    "    data['blueWardPlacedDiff'] = data[[f'blue{pos}WardPlaced' for pos in positions]].sum(axis=1) - data[[f'red{pos}WardPlaced' for pos in positions]].sum(axis=1)\n",
    "    data['blueWardKillDiff'] = data[[f'blue{pos}WardKill' for pos in positions]].sum(axis=1) - data[[f'red{pos}WardKill' for pos in positions]].sum(axis=1)\n",
    "    \n",
    "    data.drop([f'{team}{pos}WardPlaced' for team in teams for pos in positions]+[f'{team}{pos}WardKill' for team in teams for pos in positions], axis=1, inplace=True) #"
   ]
  },
  {
   "cell_type": "code",
   "execution_count": 37,
   "id": "complex-tension",
   "metadata": {
    "scrolled": true
   },
   "outputs": [
    {
     "data": {
      "text/plain": [
       "['blueWardPlacedDiff', 'blueWardKillDiff']"
      ]
     },
     "execution_count": 37,
     "metadata": {},
     "output_type": "execute_result"
    }
   ],
   "source": [
    "search('Ward')"
   ]
  },
  {
   "cell_type": "markdown",
   "id": "transsexual-straight",
   "metadata": {},
   "source": [
    "`blueWardPlacedDiff`: 블루팀이 설치한 와드 - 레드팀이 설치한 와드\n",
    "\n",
    "`blueWardKillDiff`: 블루팀이 파괴한 와드 - 레드팀이 설치한 와드"
   ]
  },
  {
   "cell_type": "markdown",
   "id": "subjective-robinson",
   "metadata": {},
   "source": [
    "#### Champion"
   ]
  },
  {
   "cell_type": "code",
   "execution_count": 38,
   "id": "demanding-daisy",
   "metadata": {},
   "outputs": [],
   "source": [
    "tag = json.load(open('data/champion.json', encoding='utf-8'))\n",
    "\n",
    "championtag = {}\n",
    "\n",
    "for cname in tag['data']:\n",
    "    ctag = tag['data'][cname]['tags']\n",
    "    \n",
    "    if len(ctag) == 1:\n",
    "        ctag.append(None)\n",
    "    \n",
    "    \n",
    "    championtag[cname] = ctag\n",
    "    \n",
    "    \n",
    "championtag = pd.DataFrame(championtag, index=['primary', 'secondary']).T\n",
    "championtag.rename({'Fiddlesticks':'FiddleSticks'}, inplace=True)"
   ]
  },
  {
   "cell_type": "code",
   "execution_count": 39,
   "id": "successful-flash",
   "metadata": {},
   "outputs": [],
   "source": [
    "for team in teams:\n",
    "    champion = [train[[f'{team}{pos}ChampionName', f'blue{pos}GoldDiff']] for pos in positions]\n",
    "\n",
    "    for champdata in champion:\n",
    "        champdata.columns=range(champdata.shape[1])\n",
    "\n",
    "\n",
    "    champion = pd.concat(champion).reset_index(drop=True)\n",
    "    champion = pd.concat([champion, pd.Series(np.repeat(positions,len(train))), pd.Series(np.tile(train['blueWin'], 5))], axis=1).iloc[:,[0,2,1,3]]\n",
    "    champion.columns = ['championName', 'teamPosition', 'goldWin', 'blueWin']\n",
    "    champion['primaryTag'] = championtag.loc[champion['championName'], 'primary'].values\n",
    "    champion['goldWin'] = (champion['goldWin'] >= 0)\n",
    "\n",
    "    if team == 'red':\n",
    "        champion['goldWin'] = 1 - champion['goldWin']\n",
    "\n",
    "\n",
    "    champidx = champion.groupby(['teamPosition', 'championName'])['blueWin'].agg('count')\n",
    "    champidx = champidx[champidx >= 350].index\n",
    "\n",
    "    cdata1 = champion[champion['goldWin'] == 0].groupby(['teamPosition', 'championName'])['blueWin'].agg(['mean', 'count']).loc[champidx]\n",
    "    cdata2 = champion[champion['goldWin'] == 1].groupby(['teamPosition', 'championName'])['blueWin'].agg(['mean', 'count']).loc[champidx]\n",
    "\n",
    "    cdata = pd.concat([cdata1, cdata2], axis=1).reset_index()\n",
    "    cdata.columns = ['teamPosition', 'championName', 'infWinrate', 'infCount', 'supWinrate', 'supCount']\n",
    "    cdata['supRatio'] = cdata['supCount'] / (cdata['infCount'] + cdata['supCount'])\n",
    "    cdata['primaryTag'] = cdata['championName'].apply(lambda x: championtag.loc[x,'primary'])\n",
    "\n",
    "    cdata = cdata.set_index(['teamPosition', 'championName'])\n",
    "    cdata2 = cdata.groupby(['teamPosition', 'primaryTag']).agg('mean').dropna()\n",
    "    cdata3 = cdata.groupby(['teamPosition']).agg('mean')\n",
    "\n",
    "\n",
    "    def winrate(pos, cname, cdata=cdata, cdata2=cdata2, cdata3=cdata3):\n",
    "        tag = championtag.loc[cname, 'primary']\n",
    "\n",
    "        try:\n",
    "            return cdata.loc[(pos, cname)][['infWinrate','supWinrate','supRatio']].values\n",
    "\n",
    "        except KeyError:\n",
    "            try:\n",
    "                return cdata2.loc[(pos, tag)][['infWinrate','supWinrate','supRatio']].values\n",
    "\n",
    "            except KeyError:\n",
    "                return cdata3.loc[pos][['infWinrate','supWinrate','supRatio']].values\n",
    "\n",
    "\n",
    "    for data in [train, test]:\n",
    "        for pos in positions:\n",
    "            values = data[f'{team}{pos}ChampionName'].map(lambda x: winrate(pos, x))\n",
    "            data[[f'{team}{pos}{col}' for col in ['InfWinrate', 'SupWinrate', 'SupRatio']]] = [[i[j] for j in range(3)] for i in values]"
   ]
  },
  {
   "cell_type": "markdown",
   "id": "neural-circumstances",
   "metadata": {},
   "source": [
    "`{team}{position}InfWinrate`: 챔피언이 상대 팀 해당 포지션보다 골드가 적을 시의 승률\n",
    "\n",
    "`{team}{position}SupWinrate`: 챔피언이 상대 팀 해당 포지션보다 골드가 많을 시의 승률\n",
    "\n",
    "`{team}{position}SupRatio`: 챔피언이 상대 팀 해당 포지션 보다 더 많은 골드를 벌 확률\n",
    "\n",
    "위 항목들을 산출한 방법은 다음과 같다.\n",
    "\n",
    "1\\. 특정 챔피언이 해당 포지션에 350회 이상 사용됨 -> 챔피언의 데이터를 사용\n",
    "\n",
    "2\\. 특정 챔피언이 해당 포지션에 350회 미만 사용됨 -> 챔피언과 같은 역할군을 가진 챔피언들의 평균 데이터를 사용\n",
    "\n",
    "3\\. 2.에서 같은 역할군을 가진 챔피언들이 전부 해당 포지션에 350회 이상 사용되지 않음 -> 해당 포지션 평균 데이터를 사용"
   ]
  },
  {
   "cell_type": "code",
   "execution_count": 40,
   "id": "alleged-trail",
   "metadata": {},
   "outputs": [],
   "source": [
    "avgWinRate = train['blueWin'].mean()\n",
    "\n",
    "def champion_winrate(name, data):\n",
    "\n",
    "    try:\n",
    "        championdata = data.loc[name]\n",
    "        \n",
    "        if championdata['count'] >= 100:\n",
    "            return championdata['mean']\n",
    "\n",
    "        else:\n",
    "            return avgWinRate\n",
    "    \n",
    "    except KeyError:\n",
    "        return avgWinRate\n",
    "\n",
    "for data in [train, test]:\n",
    "    for team in teams:\n",
    "        for pos in positions:\n",
    "            group = train.groupby(f'{team}{pos}ChampionName')['blueWin'].agg(['count', 'mean'])\n",
    "            data[f'{team}{pos}ChampionWinrate'] = data[f'{team}{pos}ChampionName'].apply(lambda x: champion_winrate(x, group))"
   ]
  },
  {
   "cell_type": "markdown",
   "id": "magnetic-geometry",
   "metadata": {},
   "source": [
    "`{team}{position}ChampionWinrate`: 챔피언이 해당 포지션으로 사용 되었을 시의 승률 (사용 횟수가 100회 미만인 경우 팀 평균 승률을 사용)"
   ]
  },
  {
   "cell_type": "code",
   "execution_count": 41,
   "id": "powerful-building",
   "metadata": {
    "scrolled": false
   },
   "outputs": [
    {
     "data": {
      "text/plain": [
       "['blueTopChampionName',\n",
       " 'blueJungleChampionName',\n",
       " 'blueMiddleChampionName',\n",
       " 'blueBottomChampionName',\n",
       " 'blueUtilityChampionName',\n",
       " 'redTopChampionName',\n",
       " 'redJungleChampionName',\n",
       " 'redMiddleChampionName',\n",
       " 'redBottomChampionName',\n",
       " 'redUtilityChampionName',\n",
       " 'FirstBloodKiller',\n",
       " 'FirstBloodVictim']"
      ]
     },
     "execution_count": 41,
     "metadata": {},
     "output_type": "execute_result"
    }
   ],
   "source": [
    "[k for (k,v) in train.dtypes.to_dict().items() if v == 'O']"
   ]
  },
  {
   "cell_type": "code",
   "execution_count": 42,
   "id": "present-sunset",
   "metadata": {},
   "outputs": [],
   "source": [
    "for data in [train, test]:\n",
    "    data.drop(['FirstBloodKiller', 'FirstBloodVictim'], axis=1, inplace=True)\n",
    "    data.drop([f'{team}{pos}ChampionName' for team in teams for pos in positions], axis=1, inplace=True)"
   ]
  },
  {
   "cell_type": "code",
   "execution_count": 43,
   "id": "formed-plumbing",
   "metadata": {},
   "outputs": [],
   "source": [
    "y_train = train['blueWin'].to_numpy()\n",
    "train.drop('blueWin', axis=1, inplace=True)\n",
    "\n",
    "y_test = test['blueWin'].to_numpy()\n",
    "test.drop('blueWin', axis=1, inplace=True)"
   ]
  },
  {
   "cell_type": "code",
   "execution_count": 44,
   "id": "modular-overhead",
   "metadata": {},
   "outputs": [],
   "source": [
    "scaler = StandardScaler().fit(train)"
   ]
  },
  {
   "cell_type": "code",
   "execution_count": 45,
   "id": "arctic-continent",
   "metadata": {},
   "outputs": [],
   "source": [
    "X_train = scaler.transform(train)\n",
    "X_test = scaler.transform(test)"
   ]
  },
  {
   "cell_type": "code",
   "execution_count": 46,
   "id": "administrative-phase",
   "metadata": {},
   "outputs": [
    {
     "name": "stdout",
     "output_type": "stream",
     "text": [
      "Mem. usage decreased to 10.81 Mb (77.3% reduction)\n"
     ]
    }
   ],
   "source": [
    "train = reduce_mem_usage(train)"
   ]
  },
  {
   "cell_type": "code",
   "execution_count": 47,
   "id": "plain-proposition",
   "metadata": {},
   "outputs": [
    {
     "name": "stdout",
     "output_type": "stream",
     "text": [
      "Mem. usage decreased to  1.19 Mb (77.5% reduction)\n"
     ]
    }
   ],
   "source": [
    "test = reduce_mem_usage(test)"
   ]
  },
  {
   "cell_type": "code",
   "execution_count": 48,
   "id": "different-reference",
   "metadata": {},
   "outputs": [
    {
     "data": {
      "text/plain": [
       "(63000, 99)"
      ]
     },
     "execution_count": 48,
     "metadata": {},
     "output_type": "execute_result"
    }
   ],
   "source": [
    "X_train.shape"
   ]
  },
  {
   "cell_type": "markdown",
   "id": "gross-foundation",
   "metadata": {},
   "source": [
    "열의 수가 181개에서 99개로 줄었다."
   ]
  },
  {
   "cell_type": "code",
   "execution_count": 49,
   "id": "unsigned-sleeve",
   "metadata": {},
   "outputs": [],
   "source": [
    "X_train = pd.DataFrame(X_train, columns=train.columns)\n",
    "X_test = pd.DataFrame(X_test, columns=test.columns)"
   ]
  },
  {
   "cell_type": "code",
   "execution_count": 50,
   "id": "australian-powder",
   "metadata": {},
   "outputs": [
    {
     "name": "stdout",
     "output_type": "stream",
     "text": [
      "Random Forest\n",
      "Mean train accuracy: 1.0000, std: 0.0000.\n",
      "Mean valid accuracy: 0.7927, std: 0.0050.\n",
      "Time Spent: 80.876 sec\n",
      "\n",
      "Logistic Regression\n",
      "Mean train accuracy: 0.8021, std: 0.0006.\n",
      "Mean valid accuracy: 0.8010, std: 0.0045.\n",
      "Time Spent: 97.848 sec\n",
      "\n",
      "XGBoost\n",
      "Mean train accuracy: 0.8860, std: 0.0013.\n",
      "Mean valid accuracy: 0.7900, std: 0.0046.\n",
      "Time Spent: 98.377 sec\n",
      "\n",
      "LightGBM\n",
      "Mean train accuracy: 0.8306, std: 0.0006.\n",
      "Mean valid accuracy: 0.7999, std: 0.0039.\n",
      "Time Spent: 13.728 sec\n",
      "\n",
      "Extra Trees\n",
      "Mean train accuracy: 1.0000, std: 0.0000.\n",
      "Mean valid accuracy: 0.7920, std: 0.0044.\n",
      "Time Spent: 48.221 sec\n",
      "\n",
      "AdaBoost\n",
      "Mean train accuracy: 0.7974, std: 0.0005.\n",
      "Mean valid accuracy: 0.7949, std: 0.0051.\n",
      "Time Spent: 176.686 sec\n",
      "\n",
      "Bagging Classifier\n",
      "Mean train accuracy: 0.9873, std: 0.0004.\n",
      "Mean valid accuracy: 0.7696, std: 0.0036.\n",
      "Time Spent: 140.695 sec\n",
      "\n",
      "Gaussian Naive Bayes\n",
      "Mean train accuracy: 0.7891, std: 0.0004.\n",
      "Mean valid accuracy: 0.7889, std: 0.0036.\n",
      "Time Spent: 2.589 sec\n",
      "\n"
     ]
    }
   ],
   "source": [
    "results = {\n",
    "    'model':[],\n",
    "    'time_spent':[],\n",
    "    'mean_valid_accuracy':[]\n",
    "}\n",
    "\n",
    "for name, model in models.items():\n",
    "    results['model'].append(name)\n",
    "    print(name)\n",
    "    \n",
    "    start_time = time.time()\n",
    "    acc = train_model(X_train.values, y_train, model=model)\n",
    "    end_time = time.time()\n",
    "    \n",
    "    results['mean_valid_accuracy'].append(acc)\n",
    "    results['time_spent'].append(end_time-start_time)\n",
    "    \n",
    "    print(f'Time Spent: {end_time-start_time:.3f} sec')\n",
    "    print('')\n",
    "\n",
    "results = pd.DataFrame(results).sort_values('mean_valid_accuracy', ascending=False)"
   ]
  },
  {
   "cell_type": "code",
   "execution_count": 51,
   "id": "unnecessary-recall",
   "metadata": {},
   "outputs": [
    {
     "data": {
      "text/html": [
       "<div>\n",
       "<style scoped>\n",
       "    .dataframe tbody tr th:only-of-type {\n",
       "        vertical-align: middle;\n",
       "    }\n",
       "\n",
       "    .dataframe tbody tr th {\n",
       "        vertical-align: top;\n",
       "    }\n",
       "\n",
       "    .dataframe thead th {\n",
       "        text-align: right;\n",
       "    }\n",
       "</style>\n",
       "<table border=\"1\" class=\"dataframe\">\n",
       "  <thead>\n",
       "    <tr style=\"text-align: right;\">\n",
       "      <th></th>\n",
       "      <th>model</th>\n",
       "      <th>time_spent</th>\n",
       "      <th>mean_valid_accuracy</th>\n",
       "    </tr>\n",
       "  </thead>\n",
       "  <tbody>\n",
       "    <tr>\n",
       "      <th>1</th>\n",
       "      <td>Logistic Regression</td>\n",
       "      <td>97.847967</td>\n",
       "      <td>0.800984</td>\n",
       "    </tr>\n",
       "    <tr>\n",
       "      <th>3</th>\n",
       "      <td>LightGBM</td>\n",
       "      <td>13.728293</td>\n",
       "      <td>0.799873</td>\n",
       "    </tr>\n",
       "    <tr>\n",
       "      <th>5</th>\n",
       "      <td>AdaBoost</td>\n",
       "      <td>176.686173</td>\n",
       "      <td>0.794857</td>\n",
       "    </tr>\n",
       "    <tr>\n",
       "      <th>0</th>\n",
       "      <td>Random Forest</td>\n",
       "      <td>80.875549</td>\n",
       "      <td>0.792683</td>\n",
       "    </tr>\n",
       "    <tr>\n",
       "      <th>4</th>\n",
       "      <td>Extra Trees</td>\n",
       "      <td>48.221109</td>\n",
       "      <td>0.791984</td>\n",
       "    </tr>\n",
       "    <tr>\n",
       "      <th>2</th>\n",
       "      <td>XGBoost</td>\n",
       "      <td>98.376935</td>\n",
       "      <td>0.789968</td>\n",
       "    </tr>\n",
       "    <tr>\n",
       "      <th>7</th>\n",
       "      <td>Gaussian Naive Bayes</td>\n",
       "      <td>2.589105</td>\n",
       "      <td>0.788921</td>\n",
       "    </tr>\n",
       "    <tr>\n",
       "      <th>6</th>\n",
       "      <td>Bagging Classifier</td>\n",
       "      <td>140.694559</td>\n",
       "      <td>0.769619</td>\n",
       "    </tr>\n",
       "  </tbody>\n",
       "</table>\n",
       "</div>"
      ],
      "text/plain": [
       "                  model  time_spent  mean_valid_accuracy\n",
       "1   Logistic Regression   97.847967             0.800984\n",
       "3              LightGBM   13.728293             0.799873\n",
       "5              AdaBoost  176.686173             0.794857\n",
       "0         Random Forest   80.875549             0.792683\n",
       "4           Extra Trees   48.221109             0.791984\n",
       "2               XGBoost   98.376935             0.789968\n",
       "7  Gaussian Naive Bayes    2.589105             0.788921\n",
       "6    Bagging Classifier  140.694559             0.769619"
      ]
     },
     "execution_count": 51,
     "metadata": {},
     "output_type": "execute_result"
    }
   ],
   "source": [
    "results"
   ]
  },
  {
   "cell_type": "markdown",
   "id": "rotary-rating",
   "metadata": {},
   "source": [
    "Baseline과 비교했을 때 전체적으로 점수가 상승하였다."
   ]
  },
  {
   "cell_type": "code",
   "execution_count": 52,
   "id": "authorized-speech",
   "metadata": {},
   "outputs": [
    {
     "name": "stdout",
     "output_type": "stream",
     "text": [
      "Fold 0 train completed. Score:0.8019 Time elapsed: 190.52 sec\n",
      "Fold 1 train completed. Score:0.8028 Time elapsed: 183.96 sec\n",
      "Fold 2 train completed. Score:0.7974 Time elapsed: 187.52 sec\n",
      "Fold 3 train completed. Score:0.8034 Time elapsed: 177.41 sec\n",
      "Fold 4 train completed. Score:0.8044 Time elapsed: 184.82 sec\n",
      "Mean train accuracy: 0.9336, std: 0.0046.\n",
      "Mean valid accuracy: 0.8020, std: 0.0024.\n"
     ]
    },
    {
     "data": {
      "text/plain": [
       "0.801968253968254"
      ]
     },
     "execution_count": 52,
     "metadata": {},
     "output_type": "execute_result"
    }
   ],
   "source": [
    "lr = LogisticRegression(n_jobs=-1)\n",
    "stack_model = StackingClassifier(estimators=[(k,v) for k,v in models.items()], final_estimator=lr, n_jobs=-1)\n",
    "folds = StratifiedKFold(n_splits=5, shuffle=True, random_state=0)\n",
    "train_model(X_train.values, y_train, folds=folds, model=stack_model, verbose=2)"
   ]
  },
  {
   "cell_type": "markdown",
   "id": "clear-start",
   "metadata": {},
   "source": [
    "Stacking 사용 시 점수가 조금 더 향상된다. "
   ]
  },
  {
   "cell_type": "code",
   "execution_count": 53,
   "id": "martial-worth",
   "metadata": {},
   "outputs": [],
   "source": [
    "feature_dict = {\n",
    "    'Random Forest':{\n",
    "        'best_score':0, \n",
    "        'columns':[]\n",
    "    },\n",
    "    \n",
    "    'Logistic Regression':{\n",
    "        'best_score':0, \n",
    "        'columns':[]\n",
    "    },\n",
    "    \n",
    "    'XGBoost':{\n",
    "        'best_score':0, \n",
    "        'columns':[]\n",
    "    },\n",
    "    \n",
    "    'LightGBM':{\n",
    "        'best_score':0, \n",
    "        'columns':[]\n",
    "    },\n",
    "    \n",
    "    'Extra Trees':{\n",
    "        'best_score':0, \n",
    "        'columns':[]\n",
    "    },\n",
    "    \n",
    "    'AdaBoost':{\n",
    "        'best_score':0,\n",
    "        'columns':[]\n",
    "    },\n",
    "    \n",
    "    'Bagging Classifier':{\n",
    "        'best_best_score':0,\n",
    "        'columns':[]\n",
    "    },\n",
    "    \n",
    "    'Gaussian Naive Bayes':{\n",
    "        'best_best_score':0,\n",
    "        'columns':[]\n",
    "    }\n",
    "}"
   ]
  },
  {
   "cell_type": "code",
   "execution_count": 54,
   "id": "french-commerce",
   "metadata": {},
   "outputs": [],
   "source": [
    "for idx, model in enumerate(feature_dict.keys()):\n",
    "    feature_dict[model]['best_score'] = results['mean_valid_accuracy'][idx]\n",
    "    feature_dict[model]['columns'] = X_train.columns.tolist()"
   ]
  },
  {
   "cell_type": "markdown",
   "id": "complete-mitchell",
   "metadata": {},
   "source": [
    "각 모델 별로 Eli5의 permutation importance, scikit-learn의 RFECV를 이용하여 추가적인 feature selection을 시행하였다. feature importance나 coefficient를 제공하지 않아 RFECV를 사용할 수 없는 일부 classifier에 한해서는 permutation importance만 사용하였다."
   ]
  },
  {
   "cell_type": "code",
   "execution_count": 55,
   "id": "requested-walnut",
   "metadata": {
    "scrolled": true
   },
   "outputs": [],
   "source": [
    "load = True\n",
    "\n",
    "if load:\n",
    "    with open('data/feature_dict', 'rb') as fp:\n",
    "        feature_dict = pickle.load(fp)\n",
    "\n",
    "else:\n",
    "    for name, model in models.items():\n",
    "        perm = eli5.sklearn.PermutationImportance(model, random_state=0).fit(X_train, y_train)\n",
    "        selected_weights = eli5.formatters.as_dataframe.explain_weights_df(perm).loc[eli5.formatters.as_dataframe.explain_weights_df(perm)['weight'] > 0]\n",
    "        top_features = [int(i[1:]) for i in selected_weights.feature if 'BIAS' not in i]\n",
    "\n",
    "        X_train_selected = X_train.iloc[:,top_features]\n",
    "\n",
    "        acc = train_model(X_train_selected.values, y_train, model=model, verbose=0)\n",
    "\n",
    "        if acc > feature_dict[name]['best_score']:\n",
    "            feature_dict[name]['best_score'] = acc\n",
    "            feature_dict[name]['columns'] = X_train_selected.columns.tolist()\n",
    "\n",
    "\n",
    "        X_train_selected = X_train[feature_dict[name]['columns']]\n",
    "\n",
    "        try:\n",
    "            rfecv = RFECV(model, scoring='accuracy', step=0.1, verbose=0, cv=folds, n_jobs=-1)\n",
    "            rfecv.fit(X_train_selected.values, y_train)\n",
    "\n",
    "            X_train_selected = X_train_selected.iloc[:,rfecv.get_support(indices=True)]\n",
    "\n",
    "            acc = train_model(X_train_selected.values, y_train, model=model, verbose=0)\n",
    "\n",
    "            if acc > feature_dict[name]['best_score']:\n",
    "                feature_dict[name]['best_score'] = acc\n",
    "                feature_dict[name]['columns'] = X_train_selected.columns.tolist()\n",
    "\n",
    "        except:\n",
    "            pass"
   ]
  },
  {
   "cell_type": "code",
   "execution_count": 56,
   "id": "commercial-insert",
   "metadata": {
    "scrolled": true
   },
   "outputs": [
    {
     "name": "stdout",
     "output_type": "stream",
     "text": [
      "Random Forest 94\n",
      "Logistic Regression 49\n",
      "XGBoost 62\n",
      "LightGBM 99\n",
      "Extra Trees 99\n",
      "AdaBoost 21\n",
      "Bagging Classifier 99\n",
      "Gaussian Naive Bayes 53\n"
     ]
    }
   ],
   "source": [
    "for model in models.keys():\n",
    "    print(model, len(feature_dict[model]['columns']))"
   ]
  },
  {
   "cell_type": "markdown",
   "id": "similar-slovak",
   "metadata": {},
   "source": [
    "각 분류기 별로 높은 점수를 기록한 feature의 개수가 다르다."
   ]
  },
  {
   "cell_type": "code",
   "execution_count": 57,
   "id": "treated-iraqi",
   "metadata": {},
   "outputs": [
    {
     "data": {
      "text/html": [
       "<div>\n",
       "<style scoped>\n",
       "    .dataframe tbody tr th:only-of-type {\n",
       "        vertical-align: middle;\n",
       "    }\n",
       "\n",
       "    .dataframe tbody tr th {\n",
       "        vertical-align: top;\n",
       "    }\n",
       "\n",
       "    .dataframe thead th {\n",
       "        text-align: right;\n",
       "    }\n",
       "</style>\n",
       "<table border=\"1\" class=\"dataframe\">\n",
       "  <thead>\n",
       "    <tr style=\"text-align: right;\">\n",
       "      <th></th>\n",
       "      <th>model</th>\n",
       "      <th>mean_valid_accuracy</th>\n",
       "    </tr>\n",
       "  </thead>\n",
       "  <tbody>\n",
       "    <tr>\n",
       "      <th>1</th>\n",
       "      <td>Logistic Regression</td>\n",
       "      <td>0.801921</td>\n",
       "    </tr>\n",
       "    <tr>\n",
       "      <th>3</th>\n",
       "      <td>LightGBM</td>\n",
       "      <td>0.799873</td>\n",
       "    </tr>\n",
       "    <tr>\n",
       "      <th>5</th>\n",
       "      <td>AdaBoost</td>\n",
       "      <td>0.795365</td>\n",
       "    </tr>\n",
       "    <tr>\n",
       "      <th>0</th>\n",
       "      <td>Random Forest</td>\n",
       "      <td>0.792603</td>\n",
       "    </tr>\n",
       "    <tr>\n",
       "      <th>2</th>\n",
       "      <td>XGBoost</td>\n",
       "      <td>0.792476</td>\n",
       "    </tr>\n",
       "    <tr>\n",
       "      <th>4</th>\n",
       "      <td>Extra Trees</td>\n",
       "      <td>0.791587</td>\n",
       "    </tr>\n",
       "    <tr>\n",
       "      <th>7</th>\n",
       "      <td>Gaussian Naive Bayes</td>\n",
       "      <td>0.790984</td>\n",
       "    </tr>\n",
       "    <tr>\n",
       "      <th>6</th>\n",
       "      <td>Bagging Classifier</td>\n",
       "      <td>0.774524</td>\n",
       "    </tr>\n",
       "  </tbody>\n",
       "</table>\n",
       "</div>"
      ],
      "text/plain": [
       "                  model  mean_valid_accuracy\n",
       "1   Logistic Regression             0.801921\n",
       "3              LightGBM             0.799873\n",
       "5              AdaBoost             0.795365\n",
       "0         Random Forest             0.792603\n",
       "2               XGBoost             0.792476\n",
       "4           Extra Trees             0.791587\n",
       "7  Gaussian Naive Bayes             0.790984\n",
       "6    Bagging Classifier             0.774524"
      ]
     },
     "execution_count": 57,
     "metadata": {},
     "output_type": "execute_result"
    }
   ],
   "source": [
    "pd.DataFrame(\n",
    "    [(model, feature_dict[model]['best_score']) for model in models.keys()], \n",
    "    columns=['model', 'mean_valid_accuracy']\n",
    ").sort_values('mean_valid_accuracy', ascending=False)"
   ]
  },
  {
   "cell_type": "code",
   "execution_count": 68,
   "id": "about-tourism",
   "metadata": {},
   "outputs": [
    {
     "name": "stdout",
     "output_type": "stream",
     "text": [
      "Fitting 5 folds for each of 50 candidates, totalling 250 fits\n"
     ]
    },
    {
     "data": {
      "text/html": [
       "<style>#sk-container-id-2 {color: black;background-color: white;}#sk-container-id-2 pre{padding: 0;}#sk-container-id-2 div.sk-toggleable {background-color: white;}#sk-container-id-2 label.sk-toggleable__label {cursor: pointer;display: block;width: 100%;margin-bottom: 0;padding: 0.3em;box-sizing: border-box;text-align: center;}#sk-container-id-2 label.sk-toggleable__label-arrow:before {content: \"▸\";float: left;margin-right: 0.25em;color: #696969;}#sk-container-id-2 label.sk-toggleable__label-arrow:hover:before {color: black;}#sk-container-id-2 div.sk-estimator:hover label.sk-toggleable__label-arrow:before {color: black;}#sk-container-id-2 div.sk-toggleable__content {max-height: 0;max-width: 0;overflow: hidden;text-align: left;background-color: #f0f8ff;}#sk-container-id-2 div.sk-toggleable__content pre {margin: 0.2em;color: black;border-radius: 0.25em;background-color: #f0f8ff;}#sk-container-id-2 input.sk-toggleable__control:checked~div.sk-toggleable__content {max-height: 200px;max-width: 100%;overflow: auto;}#sk-container-id-2 input.sk-toggleable__control:checked~label.sk-toggleable__label-arrow:before {content: \"▾\";}#sk-container-id-2 div.sk-estimator input.sk-toggleable__control:checked~label.sk-toggleable__label {background-color: #d4ebff;}#sk-container-id-2 div.sk-label input.sk-toggleable__control:checked~label.sk-toggleable__label {background-color: #d4ebff;}#sk-container-id-2 input.sk-hidden--visually {border: 0;clip: rect(1px 1px 1px 1px);clip: rect(1px, 1px, 1px, 1px);height: 1px;margin: -1px;overflow: hidden;padding: 0;position: absolute;width: 1px;}#sk-container-id-2 div.sk-estimator {font-family: monospace;background-color: #f0f8ff;border: 1px dotted black;border-radius: 0.25em;box-sizing: border-box;margin-bottom: 0.5em;}#sk-container-id-2 div.sk-estimator:hover {background-color: #d4ebff;}#sk-container-id-2 div.sk-parallel-item::after {content: \"\";width: 100%;border-bottom: 1px solid gray;flex-grow: 1;}#sk-container-id-2 div.sk-label:hover label.sk-toggleable__label {background-color: #d4ebff;}#sk-container-id-2 div.sk-serial::before {content: \"\";position: absolute;border-left: 1px solid gray;box-sizing: border-box;top: 0;bottom: 0;left: 50%;z-index: 0;}#sk-container-id-2 div.sk-serial {display: flex;flex-direction: column;align-items: center;background-color: white;padding-right: 0.2em;padding-left: 0.2em;position: relative;}#sk-container-id-2 div.sk-item {position: relative;z-index: 1;}#sk-container-id-2 div.sk-parallel {display: flex;align-items: stretch;justify-content: center;background-color: white;position: relative;}#sk-container-id-2 div.sk-item::before, #sk-container-id-2 div.sk-parallel-item::before {content: \"\";position: absolute;border-left: 1px solid gray;box-sizing: border-box;top: 0;bottom: 0;left: 50%;z-index: -1;}#sk-container-id-2 div.sk-parallel-item {display: flex;flex-direction: column;z-index: 1;position: relative;background-color: white;}#sk-container-id-2 div.sk-parallel-item:first-child::after {align-self: flex-end;width: 50%;}#sk-container-id-2 div.sk-parallel-item:last-child::after {align-self: flex-start;width: 50%;}#sk-container-id-2 div.sk-parallel-item:only-child::after {width: 0;}#sk-container-id-2 div.sk-dashed-wrapped {border: 1px dashed gray;margin: 0 0.4em 0.5em 0.4em;box-sizing: border-box;padding-bottom: 0.4em;background-color: white;}#sk-container-id-2 div.sk-label label {font-family: monospace;font-weight: bold;display: inline-block;line-height: 1.2em;}#sk-container-id-2 div.sk-label-container {text-align: center;}#sk-container-id-2 div.sk-container {/* jupyter's `normalize.less` sets `[hidden] { display: none; }` but bootstrap.min.css set `[hidden] { display: none !important; }` so we also need the `!important` here to be able to override the default hidden behavior on the sphinx rendered scikit-learn.org. See: https://github.com/scikit-learn/scikit-learn/issues/21755 */display: inline-block !important;position: relative;}#sk-container-id-2 div.sk-text-repr-fallback {display: none;}</style><div id=\"sk-container-id-2\" class=\"sk-top-container\"><div class=\"sk-text-repr-fallback\"><pre>RandomizedSearchCV(cv=5, estimator=RandomForestClassifier(n_jobs=-1), n_iter=50,\n",
       "                   n_jobs=-1,\n",
       "                   param_distributions={&#x27;bootstrap&#x27;: [True, False],\n",
       "                                        &#x27;max_depth&#x27;: [20, 40, 60, 80, 100,\n",
       "                                                      None],\n",
       "                                        &#x27;max_features&#x27;: [&#x27;auto&#x27;, &#x27;sqrt&#x27;],\n",
       "                                        &#x27;min_samples_leaf&#x27;: [1, 2, 4],\n",
       "                                        &#x27;min_samples_split&#x27;: [2, 5, 10],\n",
       "                                        &#x27;n_estimators&#x27;: [10, 50, 100, 150,\n",
       "                                                         200]},\n",
       "                   random_state=0, verbose=3)</pre><b>In a Jupyter environment, please rerun this cell to show the HTML representation or trust the notebook. <br />On GitHub, the HTML representation is unable to render, please try loading this page with nbviewer.org.</b></div><div class=\"sk-container\" hidden><div class=\"sk-item sk-dashed-wrapped\"><div class=\"sk-label-container\"><div class=\"sk-label sk-toggleable\"><input class=\"sk-toggleable__control sk-hidden--visually\" id=\"sk-estimator-id-4\" type=\"checkbox\" ><label for=\"sk-estimator-id-4\" class=\"sk-toggleable__label sk-toggleable__label-arrow\">RandomizedSearchCV</label><div class=\"sk-toggleable__content\"><pre>RandomizedSearchCV(cv=5, estimator=RandomForestClassifier(n_jobs=-1), n_iter=50,\n",
       "                   n_jobs=-1,\n",
       "                   param_distributions={&#x27;bootstrap&#x27;: [True, False],\n",
       "                                        &#x27;max_depth&#x27;: [20, 40, 60, 80, 100,\n",
       "                                                      None],\n",
       "                                        &#x27;max_features&#x27;: [&#x27;auto&#x27;, &#x27;sqrt&#x27;],\n",
       "                                        &#x27;min_samples_leaf&#x27;: [1, 2, 4],\n",
       "                                        &#x27;min_samples_split&#x27;: [2, 5, 10],\n",
       "                                        &#x27;n_estimators&#x27;: [10, 50, 100, 150,\n",
       "                                                         200]},\n",
       "                   random_state=0, verbose=3)</pre></div></div></div><div class=\"sk-parallel\"><div class=\"sk-parallel-item\"><div class=\"sk-item\"><div class=\"sk-label-container\"><div class=\"sk-label sk-toggleable\"><input class=\"sk-toggleable__control sk-hidden--visually\" id=\"sk-estimator-id-5\" type=\"checkbox\" ><label for=\"sk-estimator-id-5\" class=\"sk-toggleable__label sk-toggleable__label-arrow\">estimator: RandomForestClassifier</label><div class=\"sk-toggleable__content\"><pre>RandomForestClassifier(n_jobs=-1)</pre></div></div></div><div class=\"sk-serial\"><div class=\"sk-item\"><div class=\"sk-estimator sk-toggleable\"><input class=\"sk-toggleable__control sk-hidden--visually\" id=\"sk-estimator-id-6\" type=\"checkbox\" ><label for=\"sk-estimator-id-6\" class=\"sk-toggleable__label sk-toggleable__label-arrow\">RandomForestClassifier</label><div class=\"sk-toggleable__content\"><pre>RandomForestClassifier(n_jobs=-1)</pre></div></div></div></div></div></div></div></div></div></div>"
      ],
      "text/plain": [
       "RandomizedSearchCV(cv=5, estimator=RandomForestClassifier(n_jobs=-1), n_iter=50,\n",
       "                   n_jobs=-1,\n",
       "                   param_distributions={'bootstrap': [True, False],\n",
       "                                        'max_depth': [20, 40, 60, 80, 100,\n",
       "                                                      None],\n",
       "                                        'max_features': ['auto', 'sqrt'],\n",
       "                                        'min_samples_leaf': [1, 2, 4],\n",
       "                                        'min_samples_split': [2, 5, 10],\n",
       "                                        'n_estimators': [10, 50, 100, 150,\n",
       "                                                         200]},\n",
       "                   random_state=0, verbose=3)"
      ]
     },
     "execution_count": 68,
     "metadata": {},
     "output_type": "execute_result"
    }
   ],
   "source": [
    "X_train_selected = X_train[feature_dict['Random Forest']['columns']]\n",
    "\n",
    "n_estimators = [10, 50, 100, 150, 200]\n",
    "max_features = ['auto', 'sqrt']\n",
    "max_depth = [int(x) for x in np.linspace(20, 100, 5)] + [None]\n",
    "min_samples_split = [2, 5, 10]\n",
    "min_samples_leaf = [1, 2, 4]\n",
    "bootstrap = [True, False]\n",
    "\n",
    "random_grid = {\n",
    "    'n_estimators': n_estimators,\n",
    "    'max_features': max_features,\n",
    "    'max_depth': max_depth,\n",
    "    'min_samples_split': min_samples_split,\n",
    "    'min_samples_leaf': min_samples_leaf,\n",
    "    'bootstrap': bootstrap\n",
    "}\n",
    "\n",
    "rf_random = RandomizedSearchCV(\n",
    "    estimator=RandomForestClassifier(n_jobs=-1), \n",
    "    param_distributions=random_grid, \n",
    "    n_iter=50, \n",
    "    cv=5, \n",
    "    verbose=3, \n",
    "    random_state=0, \n",
    "    n_jobs = -1\n",
    ")\n",
    "\n",
    "rf_random.fit(X_train_selected, y_train)"
   ]
  },
  {
   "cell_type": "code",
   "execution_count": 69,
   "id": "negative-peripheral",
   "metadata": {},
   "outputs": [
    {
     "data": {
      "text/plain": [
       "{'n_estimators': 100,\n",
       " 'min_samples_split': 5,\n",
       " 'min_samples_leaf': 4,\n",
       " 'max_features': 'sqrt',\n",
       " 'max_depth': 80,\n",
       " 'bootstrap': True}"
      ]
     },
     "execution_count": 69,
     "metadata": {},
     "output_type": "execute_result"
    }
   ],
   "source": [
    "rf_random.best_params_"
   ]
  },
  {
   "cell_type": "code",
   "execution_count": 72,
   "id": "double-boost",
   "metadata": {},
   "outputs": [
    {
     "name": "stdout",
     "output_type": "stream",
     "text": [
      "Fitting 5 folds for each of 90 candidates, totalling 450 fits\n"
     ]
    },
    {
     "data": {
      "text/html": [
       "<style>#sk-container-id-3 {color: black;background-color: white;}#sk-container-id-3 pre{padding: 0;}#sk-container-id-3 div.sk-toggleable {background-color: white;}#sk-container-id-3 label.sk-toggleable__label {cursor: pointer;display: block;width: 100%;margin-bottom: 0;padding: 0.3em;box-sizing: border-box;text-align: center;}#sk-container-id-3 label.sk-toggleable__label-arrow:before {content: \"▸\";float: left;margin-right: 0.25em;color: #696969;}#sk-container-id-3 label.sk-toggleable__label-arrow:hover:before {color: black;}#sk-container-id-3 div.sk-estimator:hover label.sk-toggleable__label-arrow:before {color: black;}#sk-container-id-3 div.sk-toggleable__content {max-height: 0;max-width: 0;overflow: hidden;text-align: left;background-color: #f0f8ff;}#sk-container-id-3 div.sk-toggleable__content pre {margin: 0.2em;color: black;border-radius: 0.25em;background-color: #f0f8ff;}#sk-container-id-3 input.sk-toggleable__control:checked~div.sk-toggleable__content {max-height: 200px;max-width: 100%;overflow: auto;}#sk-container-id-3 input.sk-toggleable__control:checked~label.sk-toggleable__label-arrow:before {content: \"▾\";}#sk-container-id-3 div.sk-estimator input.sk-toggleable__control:checked~label.sk-toggleable__label {background-color: #d4ebff;}#sk-container-id-3 div.sk-label input.sk-toggleable__control:checked~label.sk-toggleable__label {background-color: #d4ebff;}#sk-container-id-3 input.sk-hidden--visually {border: 0;clip: rect(1px 1px 1px 1px);clip: rect(1px, 1px, 1px, 1px);height: 1px;margin: -1px;overflow: hidden;padding: 0;position: absolute;width: 1px;}#sk-container-id-3 div.sk-estimator {font-family: monospace;background-color: #f0f8ff;border: 1px dotted black;border-radius: 0.25em;box-sizing: border-box;margin-bottom: 0.5em;}#sk-container-id-3 div.sk-estimator:hover {background-color: #d4ebff;}#sk-container-id-3 div.sk-parallel-item::after {content: \"\";width: 100%;border-bottom: 1px solid gray;flex-grow: 1;}#sk-container-id-3 div.sk-label:hover label.sk-toggleable__label {background-color: #d4ebff;}#sk-container-id-3 div.sk-serial::before {content: \"\";position: absolute;border-left: 1px solid gray;box-sizing: border-box;top: 0;bottom: 0;left: 50%;z-index: 0;}#sk-container-id-3 div.sk-serial {display: flex;flex-direction: column;align-items: center;background-color: white;padding-right: 0.2em;padding-left: 0.2em;position: relative;}#sk-container-id-3 div.sk-item {position: relative;z-index: 1;}#sk-container-id-3 div.sk-parallel {display: flex;align-items: stretch;justify-content: center;background-color: white;position: relative;}#sk-container-id-3 div.sk-item::before, #sk-container-id-3 div.sk-parallel-item::before {content: \"\";position: absolute;border-left: 1px solid gray;box-sizing: border-box;top: 0;bottom: 0;left: 50%;z-index: -1;}#sk-container-id-3 div.sk-parallel-item {display: flex;flex-direction: column;z-index: 1;position: relative;background-color: white;}#sk-container-id-3 div.sk-parallel-item:first-child::after {align-self: flex-end;width: 50%;}#sk-container-id-3 div.sk-parallel-item:last-child::after {align-self: flex-start;width: 50%;}#sk-container-id-3 div.sk-parallel-item:only-child::after {width: 0;}#sk-container-id-3 div.sk-dashed-wrapped {border: 1px dashed gray;margin: 0 0.4em 0.5em 0.4em;box-sizing: border-box;padding-bottom: 0.4em;background-color: white;}#sk-container-id-3 div.sk-label label {font-family: monospace;font-weight: bold;display: inline-block;line-height: 1.2em;}#sk-container-id-3 div.sk-label-container {text-align: center;}#sk-container-id-3 div.sk-container {/* jupyter's `normalize.less` sets `[hidden] { display: none; }` but bootstrap.min.css set `[hidden] { display: none !important; }` so we also need the `!important` here to be able to override the default hidden behavior on the sphinx rendered scikit-learn.org. See: https://github.com/scikit-learn/scikit-learn/issues/21755 */display: inline-block !important;position: relative;}#sk-container-id-3 div.sk-text-repr-fallback {display: none;}</style><div id=\"sk-container-id-3\" class=\"sk-top-container\"><div class=\"sk-text-repr-fallback\"><pre>GridSearchCV(cv=5, estimator=LogisticRegression(n_jobs=-1), n_jobs=-1,\n",
       "             param_grid={&#x27;C&#x27;: array([0.2, 0.4, 0.6, 0.8, 1. ]),\n",
       "                         &#x27;max_iter&#x27;: [100, 150, 200],\n",
       "                         &#x27;solver&#x27;: [&#x27;newton-cg&#x27;, &#x27;sag&#x27;, &#x27;saga&#x27;],\n",
       "                         &#x27;warm_start&#x27;: [True, False]},\n",
       "             scoring=&#x27;accuracy&#x27;, verbose=True)</pre><b>In a Jupyter environment, please rerun this cell to show the HTML representation or trust the notebook. <br />On GitHub, the HTML representation is unable to render, please try loading this page with nbviewer.org.</b></div><div class=\"sk-container\" hidden><div class=\"sk-item sk-dashed-wrapped\"><div class=\"sk-label-container\"><div class=\"sk-label sk-toggleable\"><input class=\"sk-toggleable__control sk-hidden--visually\" id=\"sk-estimator-id-7\" type=\"checkbox\" ><label for=\"sk-estimator-id-7\" class=\"sk-toggleable__label sk-toggleable__label-arrow\">GridSearchCV</label><div class=\"sk-toggleable__content\"><pre>GridSearchCV(cv=5, estimator=LogisticRegression(n_jobs=-1), n_jobs=-1,\n",
       "             param_grid={&#x27;C&#x27;: array([0.2, 0.4, 0.6, 0.8, 1. ]),\n",
       "                         &#x27;max_iter&#x27;: [100, 150, 200],\n",
       "                         &#x27;solver&#x27;: [&#x27;newton-cg&#x27;, &#x27;sag&#x27;, &#x27;saga&#x27;],\n",
       "                         &#x27;warm_start&#x27;: [True, False]},\n",
       "             scoring=&#x27;accuracy&#x27;, verbose=True)</pre></div></div></div><div class=\"sk-parallel\"><div class=\"sk-parallel-item\"><div class=\"sk-item\"><div class=\"sk-label-container\"><div class=\"sk-label sk-toggleable\"><input class=\"sk-toggleable__control sk-hidden--visually\" id=\"sk-estimator-id-8\" type=\"checkbox\" ><label for=\"sk-estimator-id-8\" class=\"sk-toggleable__label sk-toggleable__label-arrow\">estimator: LogisticRegression</label><div class=\"sk-toggleable__content\"><pre>LogisticRegression(n_jobs=-1)</pre></div></div></div><div class=\"sk-serial\"><div class=\"sk-item\"><div class=\"sk-estimator sk-toggleable\"><input class=\"sk-toggleable__control sk-hidden--visually\" id=\"sk-estimator-id-9\" type=\"checkbox\" ><label for=\"sk-estimator-id-9\" class=\"sk-toggleable__label sk-toggleable__label-arrow\">LogisticRegression</label><div class=\"sk-toggleable__content\"><pre>LogisticRegression(n_jobs=-1)</pre></div></div></div></div></div></div></div></div></div></div>"
      ],
      "text/plain": [
       "GridSearchCV(cv=5, estimator=LogisticRegression(n_jobs=-1), n_jobs=-1,\n",
       "             param_grid={'C': array([0.2, 0.4, 0.6, 0.8, 1. ]),\n",
       "                         'max_iter': [100, 150, 200],\n",
       "                         'solver': ['newton-cg', 'sag', 'saga'],\n",
       "                         'warm_start': [True, False]},\n",
       "             scoring='accuracy', verbose=True)"
      ]
     },
     "execution_count": 72,
     "metadata": {},
     "output_type": "execute_result"
    }
   ],
   "source": [
    "X_train_selected = X_train[feature_dict['Logistic Regression']['columns']]\n",
    "\n",
    "max_iter = [100,150,200]\n",
    "warm_start = [True, False]\n",
    "C = np.linspace(0.2, 1, 5)\n",
    "solver = ['newton-cg', 'sag', 'saga']\n",
    "\n",
    "hyperparams = {\n",
    "    'max_iter':max_iter, \n",
    "    'warm_start':warm_start,\n",
    "    'C':C,\n",
    "    'solver':solver\n",
    "}\n",
    "\n",
    "lr_grid=GridSearchCV(\n",
    "    estimator=LogisticRegression(n_jobs=-1), \n",
    "    param_grid=hyperparams, \n",
    "    verbose=True, \n",
    "    cv=5, \n",
    "    scoring=\"accuracy\", \n",
    "    n_jobs=-1)\n",
    "\n",
    "\n",
    "lr_grid.fit(X_train_selected, y_train)"
   ]
  },
  {
   "cell_type": "code",
   "execution_count": 73,
   "id": "antique-eight",
   "metadata": {},
   "outputs": [
    {
     "data": {
      "text/plain": [
       "{'C': 0.2, 'max_iter': 100, 'solver': 'sag', 'warm_start': True}"
      ]
     },
     "execution_count": 73,
     "metadata": {},
     "output_type": "execute_result"
    }
   ],
   "source": [
    "lr_grid.best_params_"
   ]
  },
  {
   "cell_type": "code",
   "execution_count": 77,
   "id": "english-potter",
   "metadata": {},
   "outputs": [
    {
     "name": "stdout",
     "output_type": "stream",
     "text": [
      "Fitting 5 folds for each of 100 candidates, totalling 500 fits\n"
     ]
    },
    {
     "data": {
      "text/html": [
       "<style>#sk-container-id-4 {color: black;background-color: white;}#sk-container-id-4 pre{padding: 0;}#sk-container-id-4 div.sk-toggleable {background-color: white;}#sk-container-id-4 label.sk-toggleable__label {cursor: pointer;display: block;width: 100%;margin-bottom: 0;padding: 0.3em;box-sizing: border-box;text-align: center;}#sk-container-id-4 label.sk-toggleable__label-arrow:before {content: \"▸\";float: left;margin-right: 0.25em;color: #696969;}#sk-container-id-4 label.sk-toggleable__label-arrow:hover:before {color: black;}#sk-container-id-4 div.sk-estimator:hover label.sk-toggleable__label-arrow:before {color: black;}#sk-container-id-4 div.sk-toggleable__content {max-height: 0;max-width: 0;overflow: hidden;text-align: left;background-color: #f0f8ff;}#sk-container-id-4 div.sk-toggleable__content pre {margin: 0.2em;color: black;border-radius: 0.25em;background-color: #f0f8ff;}#sk-container-id-4 input.sk-toggleable__control:checked~div.sk-toggleable__content {max-height: 200px;max-width: 100%;overflow: auto;}#sk-container-id-4 input.sk-toggleable__control:checked~label.sk-toggleable__label-arrow:before {content: \"▾\";}#sk-container-id-4 div.sk-estimator input.sk-toggleable__control:checked~label.sk-toggleable__label {background-color: #d4ebff;}#sk-container-id-4 div.sk-label input.sk-toggleable__control:checked~label.sk-toggleable__label {background-color: #d4ebff;}#sk-container-id-4 input.sk-hidden--visually {border: 0;clip: rect(1px 1px 1px 1px);clip: rect(1px, 1px, 1px, 1px);height: 1px;margin: -1px;overflow: hidden;padding: 0;position: absolute;width: 1px;}#sk-container-id-4 div.sk-estimator {font-family: monospace;background-color: #f0f8ff;border: 1px dotted black;border-radius: 0.25em;box-sizing: border-box;margin-bottom: 0.5em;}#sk-container-id-4 div.sk-estimator:hover {background-color: #d4ebff;}#sk-container-id-4 div.sk-parallel-item::after {content: \"\";width: 100%;border-bottom: 1px solid gray;flex-grow: 1;}#sk-container-id-4 div.sk-label:hover label.sk-toggleable__label {background-color: #d4ebff;}#sk-container-id-4 div.sk-serial::before {content: \"\";position: absolute;border-left: 1px solid gray;box-sizing: border-box;top: 0;bottom: 0;left: 50%;z-index: 0;}#sk-container-id-4 div.sk-serial {display: flex;flex-direction: column;align-items: center;background-color: white;padding-right: 0.2em;padding-left: 0.2em;position: relative;}#sk-container-id-4 div.sk-item {position: relative;z-index: 1;}#sk-container-id-4 div.sk-parallel {display: flex;align-items: stretch;justify-content: center;background-color: white;position: relative;}#sk-container-id-4 div.sk-item::before, #sk-container-id-4 div.sk-parallel-item::before {content: \"\";position: absolute;border-left: 1px solid gray;box-sizing: border-box;top: 0;bottom: 0;left: 50%;z-index: -1;}#sk-container-id-4 div.sk-parallel-item {display: flex;flex-direction: column;z-index: 1;position: relative;background-color: white;}#sk-container-id-4 div.sk-parallel-item:first-child::after {align-self: flex-end;width: 50%;}#sk-container-id-4 div.sk-parallel-item:last-child::after {align-self: flex-start;width: 50%;}#sk-container-id-4 div.sk-parallel-item:only-child::after {width: 0;}#sk-container-id-4 div.sk-dashed-wrapped {border: 1px dashed gray;margin: 0 0.4em 0.5em 0.4em;box-sizing: border-box;padding-bottom: 0.4em;background-color: white;}#sk-container-id-4 div.sk-label label {font-family: monospace;font-weight: bold;display: inline-block;line-height: 1.2em;}#sk-container-id-4 div.sk-label-container {text-align: center;}#sk-container-id-4 div.sk-container {/* jupyter's `normalize.less` sets `[hidden] { display: none; }` but bootstrap.min.css set `[hidden] { display: none !important; }` so we also need the `!important` here to be able to override the default hidden behavior on the sphinx rendered scikit-learn.org. See: https://github.com/scikit-learn/scikit-learn/issues/21755 */display: inline-block !important;position: relative;}#sk-container-id-4 div.sk-text-repr-fallback {display: none;}</style><div id=\"sk-container-id-4\" class=\"sk-top-container\"><div class=\"sk-text-repr-fallback\"><pre>RandomizedSearchCV(cv=5,\n",
       "                   estimator=XGBClassifier(base_score=None, booster=None,\n",
       "                                           colsample_bylevel=None,\n",
       "                                           colsample_bynode=None,\n",
       "                                           colsample_bytree=None,\n",
       "                                           eval_metric=&#x27;logloss&#x27;, gamma=None,\n",
       "                                           gpu_id=None, importance_type=&#x27;gain&#x27;,\n",
       "                                           interaction_constraints=None,\n",
       "                                           learning_rate=None,\n",
       "                                           max_delta_step=None, max_depth=None,\n",
       "                                           min_child_weight=None, missing=nan,\n",
       "                                           monotone_constraints=...\n",
       "                   param_distributions={&#x27;colsample_bytree&#x27;: [0.6, 0.65, 0.7,\n",
       "                                                             0.75, 0.8, 0.85,\n",
       "                                                             0.9, 0.95, 1],\n",
       "                                        &#x27;gamma&#x27;: [0.0, 0.1, 0.2,\n",
       "                                                  0.30000000000000004, 0.4],\n",
       "                                        &#x27;learning_rate&#x27;: [0.001, 0.005, 0.01,\n",
       "                                                          0.05, 0.1, 0.2],\n",
       "                                        &#x27;max_depth&#x27;: [3, 4, 5, 6, 7, 8, 9, 10],\n",
       "                                        &#x27;min_child_weight&#x27;: [1, 2, 3, 4, 5, 6],\n",
       "                                        &#x27;n_estimators&#x27;: [10, 50, 100, 150, 200],\n",
       "                                        &#x27;subsample&#x27;: [0.6, 0.65, 0.7, 0.75, 0.8,\n",
       "                                                      0.85, 0.9, 0.95, 1]},\n",
       "                   random_state=0, verbose=3)</pre><b>In a Jupyter environment, please rerun this cell to show the HTML representation or trust the notebook. <br />On GitHub, the HTML representation is unable to render, please try loading this page with nbviewer.org.</b></div><div class=\"sk-container\" hidden><div class=\"sk-item sk-dashed-wrapped\"><div class=\"sk-label-container\"><div class=\"sk-label sk-toggleable\"><input class=\"sk-toggleable__control sk-hidden--visually\" id=\"sk-estimator-id-10\" type=\"checkbox\" ><label for=\"sk-estimator-id-10\" class=\"sk-toggleable__label sk-toggleable__label-arrow\">RandomizedSearchCV</label><div class=\"sk-toggleable__content\"><pre>RandomizedSearchCV(cv=5,\n",
       "                   estimator=XGBClassifier(base_score=None, booster=None,\n",
       "                                           colsample_bylevel=None,\n",
       "                                           colsample_bynode=None,\n",
       "                                           colsample_bytree=None,\n",
       "                                           eval_metric=&#x27;logloss&#x27;, gamma=None,\n",
       "                                           gpu_id=None, importance_type=&#x27;gain&#x27;,\n",
       "                                           interaction_constraints=None,\n",
       "                                           learning_rate=None,\n",
       "                                           max_delta_step=None, max_depth=None,\n",
       "                                           min_child_weight=None, missing=nan,\n",
       "                                           monotone_constraints=...\n",
       "                   param_distributions={&#x27;colsample_bytree&#x27;: [0.6, 0.65, 0.7,\n",
       "                                                             0.75, 0.8, 0.85,\n",
       "                                                             0.9, 0.95, 1],\n",
       "                                        &#x27;gamma&#x27;: [0.0, 0.1, 0.2,\n",
       "                                                  0.30000000000000004, 0.4],\n",
       "                                        &#x27;learning_rate&#x27;: [0.001, 0.005, 0.01,\n",
       "                                                          0.05, 0.1, 0.2],\n",
       "                                        &#x27;max_depth&#x27;: [3, 4, 5, 6, 7, 8, 9, 10],\n",
       "                                        &#x27;min_child_weight&#x27;: [1, 2, 3, 4, 5, 6],\n",
       "                                        &#x27;n_estimators&#x27;: [10, 50, 100, 150, 200],\n",
       "                                        &#x27;subsample&#x27;: [0.6, 0.65, 0.7, 0.75, 0.8,\n",
       "                                                      0.85, 0.9, 0.95, 1]},\n",
       "                   random_state=0, verbose=3)</pre></div></div></div><div class=\"sk-parallel\"><div class=\"sk-parallel-item\"><div class=\"sk-item\"><div class=\"sk-label-container\"><div class=\"sk-label sk-toggleable\"><input class=\"sk-toggleable__control sk-hidden--visually\" id=\"sk-estimator-id-11\" type=\"checkbox\" ><label for=\"sk-estimator-id-11\" class=\"sk-toggleable__label sk-toggleable__label-arrow\">estimator: XGBClassifier</label><div class=\"sk-toggleable__content\"><pre>XGBClassifier(base_score=None, booster=None, colsample_bylevel=None,\n",
       "              colsample_bynode=None, colsample_bytree=None,\n",
       "              eval_metric=&#x27;logloss&#x27;, gamma=None, gpu_id=None,\n",
       "              importance_type=&#x27;gain&#x27;, interaction_constraints=None,\n",
       "              learning_rate=None, max_delta_step=None, max_depth=None,\n",
       "              min_child_weight=None, missing=nan, monotone_constraints=None,\n",
       "              n_estimators=100, n_jobs=-1, num_parallel_tree=None,\n",
       "              random_state=None, reg_alpha=None, reg_lambda=None,\n",
       "              scale_pos_weight=None, subsample=None, tree_method=None,\n",
       "              validate_parameters=None, verbosity=None)</pre></div></div></div><div class=\"sk-serial\"><div class=\"sk-item\"><div class=\"sk-estimator sk-toggleable\"><input class=\"sk-toggleable__control sk-hidden--visually\" id=\"sk-estimator-id-12\" type=\"checkbox\" ><label for=\"sk-estimator-id-12\" class=\"sk-toggleable__label sk-toggleable__label-arrow\">XGBClassifier</label><div class=\"sk-toggleable__content\"><pre>XGBClassifier(base_score=None, booster=None, colsample_bylevel=None,\n",
       "              colsample_bynode=None, colsample_bytree=None,\n",
       "              eval_metric=&#x27;logloss&#x27;, gamma=None, gpu_id=None,\n",
       "              importance_type=&#x27;gain&#x27;, interaction_constraints=None,\n",
       "              learning_rate=None, max_delta_step=None, max_depth=None,\n",
       "              min_child_weight=None, missing=nan, monotone_constraints=None,\n",
       "              n_estimators=100, n_jobs=-1, num_parallel_tree=None,\n",
       "              random_state=None, reg_alpha=None, reg_lambda=None,\n",
       "              scale_pos_weight=None, subsample=None, tree_method=None,\n",
       "              validate_parameters=None, verbosity=None)</pre></div></div></div></div></div></div></div></div></div></div>"
      ],
      "text/plain": [
       "RandomizedSearchCV(cv=5,\n",
       "                   estimator=XGBClassifier(base_score=None, booster=None,\n",
       "                                           colsample_bylevel=None,\n",
       "                                           colsample_bynode=None,\n",
       "                                           colsample_bytree=None,\n",
       "                                           eval_metric='logloss', gamma=None,\n",
       "                                           gpu_id=None, importance_type='gain',\n",
       "                                           interaction_constraints=None,\n",
       "                                           learning_rate=None,\n",
       "                                           max_delta_step=None, max_depth=None,\n",
       "                                           min_child_weight=None, missing=nan,\n",
       "                                           monotone_constraints=...\n",
       "                   param_distributions={'colsample_bytree': [0.6, 0.65, 0.7,\n",
       "                                                             0.75, 0.8, 0.85,\n",
       "                                                             0.9, 0.95, 1],\n",
       "                                        'gamma': [0.0, 0.1, 0.2,\n",
       "                                                  0.30000000000000004, 0.4],\n",
       "                                        'learning_rate': [0.001, 0.005, 0.01,\n",
       "                                                          0.05, 0.1, 0.2],\n",
       "                                        'max_depth': [3, 4, 5, 6, 7, 8, 9, 10],\n",
       "                                        'min_child_weight': [1, 2, 3, 4, 5, 6],\n",
       "                                        'n_estimators': [10, 50, 100, 150, 200],\n",
       "                                        'subsample': [0.6, 0.65, 0.7, 0.75, 0.8,\n",
       "                                                      0.85, 0.9, 0.95, 1]},\n",
       "                   random_state=0, verbose=3)"
      ]
     },
     "execution_count": 77,
     "metadata": {},
     "output_type": "execute_result"
    }
   ],
   "source": [
    "X_train_selected = X_train[feature_dict['XGBoost']['columns']]\n",
    "\n",
    "learning_rate = [0.001, 0.005, 0.01, 0.05, 0.1, 0.2]\n",
    "n_estimators = [10, 50, 100, 150, 200]\n",
    "max_depth = [3, 4, 5, 6, 7, 8, 9, 10]\n",
    "min_child_weight = [1, 2, 3, 4, 5, 6]\n",
    "gamma = [i*0.1 for i in range(0,5)]\n",
    "subsample = [0.6, 0.65, 0.7, 0.75, 0.8, 0.85, 0.9, 0.95, 1]\n",
    "colsample_bytree = [0.6, 0.65, 0.7, 0.75, 0.8, 0.85, 0.9, 0.95, 1]\n",
    "\n",
    "random_grid = {\n",
    "    'learning_rate':learning_rate,\n",
    "    'n_estimators':n_estimators,\n",
    "    'max_depth':max_depth,\n",
    "    'min_child_weight':min_child_weight,\n",
    "    'gamma':gamma,\n",
    "    'subsample':subsample,\n",
    "    'colsample_bytree':colsample_bytree\n",
    "}\n",
    "\n",
    "xg_random = RandomizedSearchCV(\n",
    "    estimator=XGBClassifier(eval_metric='logloss', n_jobs=-1), \n",
    "    param_distributions=random_grid, \n",
    "    n_iter=100, \n",
    "    cv=5, \n",
    "    verbose=3, \n",
    "    random_state=0, \n",
    "    n_jobs=-1\n",
    ")\n",
    "\n",
    "xg_random.fit(X_train_selected, y_train)"
   ]
  },
  {
   "cell_type": "code",
   "execution_count": 81,
   "id": "neither-relaxation",
   "metadata": {},
   "outputs": [
    {
     "data": {
      "text/plain": [
       "{'subsample': 1,\n",
       " 'n_estimators': 200,\n",
       " 'min_child_weight': 4,\n",
       " 'max_depth': 5,\n",
       " 'learning_rate': 0.1,\n",
       " 'gamma': 0.0,\n",
       " 'colsample_bytree': 0.6}"
      ]
     },
     "execution_count": 81,
     "metadata": {},
     "output_type": "execute_result"
    }
   ],
   "source": [
    "xg_random.best_params_"
   ]
  },
  {
   "cell_type": "code",
   "execution_count": 84,
   "id": "driving-zoning",
   "metadata": {},
   "outputs": [
    {
     "name": "stdout",
     "output_type": "stream",
     "text": [
      "Fitting 5 folds for each of 100 candidates, totalling 500 fits\n"
     ]
    },
    {
     "data": {
      "text/html": [
       "<style>#sk-container-id-5 {color: black;background-color: white;}#sk-container-id-5 pre{padding: 0;}#sk-container-id-5 div.sk-toggleable {background-color: white;}#sk-container-id-5 label.sk-toggleable__label {cursor: pointer;display: block;width: 100%;margin-bottom: 0;padding: 0.3em;box-sizing: border-box;text-align: center;}#sk-container-id-5 label.sk-toggleable__label-arrow:before {content: \"▸\";float: left;margin-right: 0.25em;color: #696969;}#sk-container-id-5 label.sk-toggleable__label-arrow:hover:before {color: black;}#sk-container-id-5 div.sk-estimator:hover label.sk-toggleable__label-arrow:before {color: black;}#sk-container-id-5 div.sk-toggleable__content {max-height: 0;max-width: 0;overflow: hidden;text-align: left;background-color: #f0f8ff;}#sk-container-id-5 div.sk-toggleable__content pre {margin: 0.2em;color: black;border-radius: 0.25em;background-color: #f0f8ff;}#sk-container-id-5 input.sk-toggleable__control:checked~div.sk-toggleable__content {max-height: 200px;max-width: 100%;overflow: auto;}#sk-container-id-5 input.sk-toggleable__control:checked~label.sk-toggleable__label-arrow:before {content: \"▾\";}#sk-container-id-5 div.sk-estimator input.sk-toggleable__control:checked~label.sk-toggleable__label {background-color: #d4ebff;}#sk-container-id-5 div.sk-label input.sk-toggleable__control:checked~label.sk-toggleable__label {background-color: #d4ebff;}#sk-container-id-5 input.sk-hidden--visually {border: 0;clip: rect(1px 1px 1px 1px);clip: rect(1px, 1px, 1px, 1px);height: 1px;margin: -1px;overflow: hidden;padding: 0;position: absolute;width: 1px;}#sk-container-id-5 div.sk-estimator {font-family: monospace;background-color: #f0f8ff;border: 1px dotted black;border-radius: 0.25em;box-sizing: border-box;margin-bottom: 0.5em;}#sk-container-id-5 div.sk-estimator:hover {background-color: #d4ebff;}#sk-container-id-5 div.sk-parallel-item::after {content: \"\";width: 100%;border-bottom: 1px solid gray;flex-grow: 1;}#sk-container-id-5 div.sk-label:hover label.sk-toggleable__label {background-color: #d4ebff;}#sk-container-id-5 div.sk-serial::before {content: \"\";position: absolute;border-left: 1px solid gray;box-sizing: border-box;top: 0;bottom: 0;left: 50%;z-index: 0;}#sk-container-id-5 div.sk-serial {display: flex;flex-direction: column;align-items: center;background-color: white;padding-right: 0.2em;padding-left: 0.2em;position: relative;}#sk-container-id-5 div.sk-item {position: relative;z-index: 1;}#sk-container-id-5 div.sk-parallel {display: flex;align-items: stretch;justify-content: center;background-color: white;position: relative;}#sk-container-id-5 div.sk-item::before, #sk-container-id-5 div.sk-parallel-item::before {content: \"\";position: absolute;border-left: 1px solid gray;box-sizing: border-box;top: 0;bottom: 0;left: 50%;z-index: -1;}#sk-container-id-5 div.sk-parallel-item {display: flex;flex-direction: column;z-index: 1;position: relative;background-color: white;}#sk-container-id-5 div.sk-parallel-item:first-child::after {align-self: flex-end;width: 50%;}#sk-container-id-5 div.sk-parallel-item:last-child::after {align-self: flex-start;width: 50%;}#sk-container-id-5 div.sk-parallel-item:only-child::after {width: 0;}#sk-container-id-5 div.sk-dashed-wrapped {border: 1px dashed gray;margin: 0 0.4em 0.5em 0.4em;box-sizing: border-box;padding-bottom: 0.4em;background-color: white;}#sk-container-id-5 div.sk-label label {font-family: monospace;font-weight: bold;display: inline-block;line-height: 1.2em;}#sk-container-id-5 div.sk-label-container {text-align: center;}#sk-container-id-5 div.sk-container {/* jupyter's `normalize.less` sets `[hidden] { display: none; }` but bootstrap.min.css set `[hidden] { display: none !important; }` so we also need the `!important` here to be able to override the default hidden behavior on the sphinx rendered scikit-learn.org. See: https://github.com/scikit-learn/scikit-learn/issues/21755 */display: inline-block !important;position: relative;}#sk-container-id-5 div.sk-text-repr-fallback {display: none;}</style><div id=\"sk-container-id-5\" class=\"sk-top-container\"><div class=\"sk-text-repr-fallback\"><pre>RandomizedSearchCV(cv=5, estimator=LGBMClassifier(), n_iter=100, n_jobs=-1,\n",
       "                   param_distributions={&#x27;learning_rate&#x27;: [0.001, 0.005, 0.01,\n",
       "                                                          0.05, 0.1],\n",
       "                                        &#x27;min_child_samples&#x27;: [5, 10, 15],\n",
       "                                        &#x27;n_estimators&#x27;: [50, 100, 150, 200, 250,\n",
       "                                                         300, 350, 400, 450,\n",
       "                                                         500],\n",
       "                                        &#x27;num_leaves&#x27;: [16, 32, 64, 128],\n",
       "                                        &#x27;reg_alpha&#x27;: [0, 0.01, 0.03]},\n",
       "                   random_state=0, verbose=3)</pre><b>In a Jupyter environment, please rerun this cell to show the HTML representation or trust the notebook. <br />On GitHub, the HTML representation is unable to render, please try loading this page with nbviewer.org.</b></div><div class=\"sk-container\" hidden><div class=\"sk-item sk-dashed-wrapped\"><div class=\"sk-label-container\"><div class=\"sk-label sk-toggleable\"><input class=\"sk-toggleable__control sk-hidden--visually\" id=\"sk-estimator-id-13\" type=\"checkbox\" ><label for=\"sk-estimator-id-13\" class=\"sk-toggleable__label sk-toggleable__label-arrow\">RandomizedSearchCV</label><div class=\"sk-toggleable__content\"><pre>RandomizedSearchCV(cv=5, estimator=LGBMClassifier(), n_iter=100, n_jobs=-1,\n",
       "                   param_distributions={&#x27;learning_rate&#x27;: [0.001, 0.005, 0.01,\n",
       "                                                          0.05, 0.1],\n",
       "                                        &#x27;min_child_samples&#x27;: [5, 10, 15],\n",
       "                                        &#x27;n_estimators&#x27;: [50, 100, 150, 200, 250,\n",
       "                                                         300, 350, 400, 450,\n",
       "                                                         500],\n",
       "                                        &#x27;num_leaves&#x27;: [16, 32, 64, 128],\n",
       "                                        &#x27;reg_alpha&#x27;: [0, 0.01, 0.03]},\n",
       "                   random_state=0, verbose=3)</pre></div></div></div><div class=\"sk-parallel\"><div class=\"sk-parallel-item\"><div class=\"sk-item\"><div class=\"sk-label-container\"><div class=\"sk-label sk-toggleable\"><input class=\"sk-toggleable__control sk-hidden--visually\" id=\"sk-estimator-id-14\" type=\"checkbox\" ><label for=\"sk-estimator-id-14\" class=\"sk-toggleable__label sk-toggleable__label-arrow\">estimator: LGBMClassifier</label><div class=\"sk-toggleable__content\"><pre>LGBMClassifier()</pre></div></div></div><div class=\"sk-serial\"><div class=\"sk-item\"><div class=\"sk-estimator sk-toggleable\"><input class=\"sk-toggleable__control sk-hidden--visually\" id=\"sk-estimator-id-15\" type=\"checkbox\" ><label for=\"sk-estimator-id-15\" class=\"sk-toggleable__label sk-toggleable__label-arrow\">LGBMClassifier</label><div class=\"sk-toggleable__content\"><pre>LGBMClassifier()</pre></div></div></div></div></div></div></div></div></div></div>"
      ],
      "text/plain": [
       "RandomizedSearchCV(cv=5, estimator=LGBMClassifier(), n_iter=100, n_jobs=-1,\n",
       "                   param_distributions={'learning_rate': [0.001, 0.005, 0.01,\n",
       "                                                          0.05, 0.1],\n",
       "                                        'min_child_samples': [5, 10, 15],\n",
       "                                        'n_estimators': [50, 100, 150, 200, 250,\n",
       "                                                         300, 350, 400, 450,\n",
       "                                                         500],\n",
       "                                        'num_leaves': [16, 32, 64, 128],\n",
       "                                        'reg_alpha': [0, 0.01, 0.03]},\n",
       "                   random_state=0, verbose=3)"
      ]
     },
     "execution_count": 84,
     "metadata": {},
     "output_type": "execute_result"
    }
   ],
   "source": [
    "X_train_selected = X_train[feature_dict['LightGBM']['columns']]\n",
    "\n",
    "num_leaves = [int(2**x) for x in np.linspace(4,7,4)]\n",
    "min_child_samples = [5, 10, 15]\n",
    "learning_rate = [0.001, 0.005, 0.01, 0.05, 0.1]\n",
    "reg_alpha = [0, 0.01, 0.03]\n",
    "n_estimators = [int(x) for x in np.linspace(50,500,10)]\n",
    "\n",
    "random_grid = {\n",
    "    'num_leaves':num_leaves,\n",
    "    'min_child_samples':min_child_samples,\n",
    "    'learning_rate':learning_rate,\n",
    "    'reg_alpha':reg_alpha,\n",
    "    'n_estimators':n_estimators\n",
    "}\n",
    "\n",
    "lg_random = RandomizedSearchCV(\n",
    "    estimator=LGBMClassifier(n_jobs=-1), \n",
    "    param_distributions=random_grid, \n",
    "    n_iter=100, \n",
    "    cv=5, \n",
    "    verbose=3, \n",
    "    random_state=0, \n",
    "    n_jobs=-1\n",
    ")\n",
    "\n",
    "lg_random.fit(X_train_selected, y_train)"
   ]
  },
  {
   "cell_type": "code",
   "execution_count": 85,
   "id": "dominant-foster",
   "metadata": {},
   "outputs": [
    {
     "data": {
      "text/plain": [
       "{'reg_alpha': 0.03,\n",
       " 'num_leaves': 16,\n",
       " 'n_estimators': 400,\n",
       " 'min_child_samples': 5,\n",
       " 'learning_rate': 0.05}"
      ]
     },
     "execution_count": 85,
     "metadata": {},
     "output_type": "execute_result"
    }
   ],
   "source": [
    "lg_random.best_params_"
   ]
  },
  {
   "cell_type": "code",
   "execution_count": 88,
   "id": "organizational-psychology",
   "metadata": {
    "scrolled": true
   },
   "outputs": [
    {
     "name": "stdout",
     "output_type": "stream",
     "text": [
      "Fitting 5 folds for each of 100 candidates, totalling 500 fits\n"
     ]
    },
    {
     "data": {
      "text/html": [
       "<style>#sk-container-id-6 {color: black;background-color: white;}#sk-container-id-6 pre{padding: 0;}#sk-container-id-6 div.sk-toggleable {background-color: white;}#sk-container-id-6 label.sk-toggleable__label {cursor: pointer;display: block;width: 100%;margin-bottom: 0;padding: 0.3em;box-sizing: border-box;text-align: center;}#sk-container-id-6 label.sk-toggleable__label-arrow:before {content: \"▸\";float: left;margin-right: 0.25em;color: #696969;}#sk-container-id-6 label.sk-toggleable__label-arrow:hover:before {color: black;}#sk-container-id-6 div.sk-estimator:hover label.sk-toggleable__label-arrow:before {color: black;}#sk-container-id-6 div.sk-toggleable__content {max-height: 0;max-width: 0;overflow: hidden;text-align: left;background-color: #f0f8ff;}#sk-container-id-6 div.sk-toggleable__content pre {margin: 0.2em;color: black;border-radius: 0.25em;background-color: #f0f8ff;}#sk-container-id-6 input.sk-toggleable__control:checked~div.sk-toggleable__content {max-height: 200px;max-width: 100%;overflow: auto;}#sk-container-id-6 input.sk-toggleable__control:checked~label.sk-toggleable__label-arrow:before {content: \"▾\";}#sk-container-id-6 div.sk-estimator input.sk-toggleable__control:checked~label.sk-toggleable__label {background-color: #d4ebff;}#sk-container-id-6 div.sk-label input.sk-toggleable__control:checked~label.sk-toggleable__label {background-color: #d4ebff;}#sk-container-id-6 input.sk-hidden--visually {border: 0;clip: rect(1px 1px 1px 1px);clip: rect(1px, 1px, 1px, 1px);height: 1px;margin: -1px;overflow: hidden;padding: 0;position: absolute;width: 1px;}#sk-container-id-6 div.sk-estimator {font-family: monospace;background-color: #f0f8ff;border: 1px dotted black;border-radius: 0.25em;box-sizing: border-box;margin-bottom: 0.5em;}#sk-container-id-6 div.sk-estimator:hover {background-color: #d4ebff;}#sk-container-id-6 div.sk-parallel-item::after {content: \"\";width: 100%;border-bottom: 1px solid gray;flex-grow: 1;}#sk-container-id-6 div.sk-label:hover label.sk-toggleable__label {background-color: #d4ebff;}#sk-container-id-6 div.sk-serial::before {content: \"\";position: absolute;border-left: 1px solid gray;box-sizing: border-box;top: 0;bottom: 0;left: 50%;z-index: 0;}#sk-container-id-6 div.sk-serial {display: flex;flex-direction: column;align-items: center;background-color: white;padding-right: 0.2em;padding-left: 0.2em;position: relative;}#sk-container-id-6 div.sk-item {position: relative;z-index: 1;}#sk-container-id-6 div.sk-parallel {display: flex;align-items: stretch;justify-content: center;background-color: white;position: relative;}#sk-container-id-6 div.sk-item::before, #sk-container-id-6 div.sk-parallel-item::before {content: \"\";position: absolute;border-left: 1px solid gray;box-sizing: border-box;top: 0;bottom: 0;left: 50%;z-index: -1;}#sk-container-id-6 div.sk-parallel-item {display: flex;flex-direction: column;z-index: 1;position: relative;background-color: white;}#sk-container-id-6 div.sk-parallel-item:first-child::after {align-self: flex-end;width: 50%;}#sk-container-id-6 div.sk-parallel-item:last-child::after {align-self: flex-start;width: 50%;}#sk-container-id-6 div.sk-parallel-item:only-child::after {width: 0;}#sk-container-id-6 div.sk-dashed-wrapped {border: 1px dashed gray;margin: 0 0.4em 0.5em 0.4em;box-sizing: border-box;padding-bottom: 0.4em;background-color: white;}#sk-container-id-6 div.sk-label label {font-family: monospace;font-weight: bold;display: inline-block;line-height: 1.2em;}#sk-container-id-6 div.sk-label-container {text-align: center;}#sk-container-id-6 div.sk-container {/* jupyter's `normalize.less` sets `[hidden] { display: none; }` but bootstrap.min.css set `[hidden] { display: none !important; }` so we also need the `!important` here to be able to override the default hidden behavior on the sphinx rendered scikit-learn.org. See: https://github.com/scikit-learn/scikit-learn/issues/21755 */display: inline-block !important;position: relative;}#sk-container-id-6 div.sk-text-repr-fallback {display: none;}</style><div id=\"sk-container-id-6\" class=\"sk-top-container\"><div class=\"sk-text-repr-fallback\"><pre>RandomizedSearchCV(cv=5, estimator=ExtraTreesClassifier(n_jobs=-1), n_iter=100,\n",
       "                   n_jobs=-1,\n",
       "                   param_distributions={&#x27;max_depth&#x27;: [3, None],\n",
       "                                        &#x27;max_features&#x27;: [0.1, 0.2, 0.5, 0.8],\n",
       "                                        &#x27;min_samples_leaf&#x27;: [2, 10],\n",
       "                                        &#x27;min_samples_split&#x27;: [2, 10],\n",
       "                                        &#x27;n_estimators&#x27;: [10, 25, 50, 75, 100]},\n",
       "                   random_state=0, verbose=3)</pre><b>In a Jupyter environment, please rerun this cell to show the HTML representation or trust the notebook. <br />On GitHub, the HTML representation is unable to render, please try loading this page with nbviewer.org.</b></div><div class=\"sk-container\" hidden><div class=\"sk-item sk-dashed-wrapped\"><div class=\"sk-label-container\"><div class=\"sk-label sk-toggleable\"><input class=\"sk-toggleable__control sk-hidden--visually\" id=\"sk-estimator-id-16\" type=\"checkbox\" ><label for=\"sk-estimator-id-16\" class=\"sk-toggleable__label sk-toggleable__label-arrow\">RandomizedSearchCV</label><div class=\"sk-toggleable__content\"><pre>RandomizedSearchCV(cv=5, estimator=ExtraTreesClassifier(n_jobs=-1), n_iter=100,\n",
       "                   n_jobs=-1,\n",
       "                   param_distributions={&#x27;max_depth&#x27;: [3, None],\n",
       "                                        &#x27;max_features&#x27;: [0.1, 0.2, 0.5, 0.8],\n",
       "                                        &#x27;min_samples_leaf&#x27;: [2, 10],\n",
       "                                        &#x27;min_samples_split&#x27;: [2, 10],\n",
       "                                        &#x27;n_estimators&#x27;: [10, 25, 50, 75, 100]},\n",
       "                   random_state=0, verbose=3)</pre></div></div></div><div class=\"sk-parallel\"><div class=\"sk-parallel-item\"><div class=\"sk-item\"><div class=\"sk-label-container\"><div class=\"sk-label sk-toggleable\"><input class=\"sk-toggleable__control sk-hidden--visually\" id=\"sk-estimator-id-17\" type=\"checkbox\" ><label for=\"sk-estimator-id-17\" class=\"sk-toggleable__label sk-toggleable__label-arrow\">estimator: ExtraTreesClassifier</label><div class=\"sk-toggleable__content\"><pre>ExtraTreesClassifier(n_jobs=-1)</pre></div></div></div><div class=\"sk-serial\"><div class=\"sk-item\"><div class=\"sk-estimator sk-toggleable\"><input class=\"sk-toggleable__control sk-hidden--visually\" id=\"sk-estimator-id-18\" type=\"checkbox\" ><label for=\"sk-estimator-id-18\" class=\"sk-toggleable__label sk-toggleable__label-arrow\">ExtraTreesClassifier</label><div class=\"sk-toggleable__content\"><pre>ExtraTreesClassifier(n_jobs=-1)</pre></div></div></div></div></div></div></div></div></div></div>"
      ],
      "text/plain": [
       "RandomizedSearchCV(cv=5, estimator=ExtraTreesClassifier(n_jobs=-1), n_iter=100,\n",
       "                   n_jobs=-1,\n",
       "                   param_distributions={'max_depth': [3, None],\n",
       "                                        'max_features': [0.1, 0.2, 0.5, 0.8],\n",
       "                                        'min_samples_leaf': [2, 10],\n",
       "                                        'min_samples_split': [2, 10],\n",
       "                                        'n_estimators': [10, 25, 50, 75, 100]},\n",
       "                   random_state=0, verbose=3)"
      ]
     },
     "execution_count": 88,
     "metadata": {},
     "output_type": "execute_result"
    }
   ],
   "source": [
    "X_train_selected = X_train[feature_dict['Extra Trees']['columns']]\n",
    "\n",
    "n_estimators = [10, 25, 50, 75, 100]\n",
    "max_depth = [3, None]\n",
    "max_features = [0.1, 0.2, 0.5, 0.8]\n",
    "min_samples_split = [2, 10]\n",
    "min_samples_leaf = [2, 10]\n",
    "\n",
    "random_grid = {\n",
    "    'n_estimators':n_estimators,\n",
    "    'max_depth':max_depth,\n",
    "    'max_features':max_features,\n",
    "    'min_samples_split':min_samples_split,\n",
    "    'min_samples_leaf':min_samples_leaf\n",
    "}\n",
    "\n",
    "ex_random = RandomizedSearchCV(\n",
    "    estimator=ExtraTreesClassifier(n_jobs=-1), \n",
    "    param_distributions=random_grid, \n",
    "    n_iter=100, \n",
    "    cv=5, \n",
    "    verbose=3, \n",
    "    random_state=0, \n",
    "    n_jobs=-1\n",
    ")\n",
    "\n",
    "ex_random.fit(X_train_selected, y_train)"
   ]
  },
  {
   "cell_type": "code",
   "execution_count": 89,
   "id": "exact-uncle",
   "metadata": {},
   "outputs": [
    {
     "data": {
      "text/plain": [
       "{'n_estimators': 50,\n",
       " 'min_samples_split': 10,\n",
       " 'min_samples_leaf': 10,\n",
       " 'max_features': 0.8,\n",
       " 'max_depth': None}"
      ]
     },
     "execution_count": 89,
     "metadata": {},
     "output_type": "execute_result"
    }
   ],
   "source": [
    "ex_random.best_params_"
   ]
  },
  {
   "cell_type": "code",
   "execution_count": 92,
   "id": "built-decimal",
   "metadata": {},
   "outputs": [
    {
     "name": "stdout",
     "output_type": "stream",
     "text": [
      "Fitting 5 folds for each of 12 candidates, totalling 60 fits\n"
     ]
    },
    {
     "data": {
      "text/html": [
       "<style>#sk-container-id-7 {color: black;background-color: white;}#sk-container-id-7 pre{padding: 0;}#sk-container-id-7 div.sk-toggleable {background-color: white;}#sk-container-id-7 label.sk-toggleable__label {cursor: pointer;display: block;width: 100%;margin-bottom: 0;padding: 0.3em;box-sizing: border-box;text-align: center;}#sk-container-id-7 label.sk-toggleable__label-arrow:before {content: \"▸\";float: left;margin-right: 0.25em;color: #696969;}#sk-container-id-7 label.sk-toggleable__label-arrow:hover:before {color: black;}#sk-container-id-7 div.sk-estimator:hover label.sk-toggleable__label-arrow:before {color: black;}#sk-container-id-7 div.sk-toggleable__content {max-height: 0;max-width: 0;overflow: hidden;text-align: left;background-color: #f0f8ff;}#sk-container-id-7 div.sk-toggleable__content pre {margin: 0.2em;color: black;border-radius: 0.25em;background-color: #f0f8ff;}#sk-container-id-7 input.sk-toggleable__control:checked~div.sk-toggleable__content {max-height: 200px;max-width: 100%;overflow: auto;}#sk-container-id-7 input.sk-toggleable__control:checked~label.sk-toggleable__label-arrow:before {content: \"▾\";}#sk-container-id-7 div.sk-estimator input.sk-toggleable__control:checked~label.sk-toggleable__label {background-color: #d4ebff;}#sk-container-id-7 div.sk-label input.sk-toggleable__control:checked~label.sk-toggleable__label {background-color: #d4ebff;}#sk-container-id-7 input.sk-hidden--visually {border: 0;clip: rect(1px 1px 1px 1px);clip: rect(1px, 1px, 1px, 1px);height: 1px;margin: -1px;overflow: hidden;padding: 0;position: absolute;width: 1px;}#sk-container-id-7 div.sk-estimator {font-family: monospace;background-color: #f0f8ff;border: 1px dotted black;border-radius: 0.25em;box-sizing: border-box;margin-bottom: 0.5em;}#sk-container-id-7 div.sk-estimator:hover {background-color: #d4ebff;}#sk-container-id-7 div.sk-parallel-item::after {content: \"\";width: 100%;border-bottom: 1px solid gray;flex-grow: 1;}#sk-container-id-7 div.sk-label:hover label.sk-toggleable__label {background-color: #d4ebff;}#sk-container-id-7 div.sk-serial::before {content: \"\";position: absolute;border-left: 1px solid gray;box-sizing: border-box;top: 0;bottom: 0;left: 50%;z-index: 0;}#sk-container-id-7 div.sk-serial {display: flex;flex-direction: column;align-items: center;background-color: white;padding-right: 0.2em;padding-left: 0.2em;position: relative;}#sk-container-id-7 div.sk-item {position: relative;z-index: 1;}#sk-container-id-7 div.sk-parallel {display: flex;align-items: stretch;justify-content: center;background-color: white;position: relative;}#sk-container-id-7 div.sk-item::before, #sk-container-id-7 div.sk-parallel-item::before {content: \"\";position: absolute;border-left: 1px solid gray;box-sizing: border-box;top: 0;bottom: 0;left: 50%;z-index: -1;}#sk-container-id-7 div.sk-parallel-item {display: flex;flex-direction: column;z-index: 1;position: relative;background-color: white;}#sk-container-id-7 div.sk-parallel-item:first-child::after {align-self: flex-end;width: 50%;}#sk-container-id-7 div.sk-parallel-item:last-child::after {align-self: flex-start;width: 50%;}#sk-container-id-7 div.sk-parallel-item:only-child::after {width: 0;}#sk-container-id-7 div.sk-dashed-wrapped {border: 1px dashed gray;margin: 0 0.4em 0.5em 0.4em;box-sizing: border-box;padding-bottom: 0.4em;background-color: white;}#sk-container-id-7 div.sk-label label {font-family: monospace;font-weight: bold;display: inline-block;line-height: 1.2em;}#sk-container-id-7 div.sk-label-container {text-align: center;}#sk-container-id-7 div.sk-container {/* jupyter's `normalize.less` sets `[hidden] { display: none; }` but bootstrap.min.css set `[hidden] { display: none !important; }` so we also need the `!important` here to be able to override the default hidden behavior on the sphinx rendered scikit-learn.org. See: https://github.com/scikit-learn/scikit-learn/issues/21755 */display: inline-block !important;position: relative;}#sk-container-id-7 div.sk-text-repr-fallback {display: none;}</style><div id=\"sk-container-id-7\" class=\"sk-top-container\"><div class=\"sk-text-repr-fallback\"><pre>GridSearchCV(cv=5, estimator=AdaBoostClassifier(), n_jobs=-1,\n",
       "             param_grid={&#x27;learning_rate&#x27;: [0.01, 0.05, 0.1, 0.2],\n",
       "                         &#x27;n_estimators&#x27;: [100, 150, 200]},\n",
       "             scoring=&#x27;accuracy&#x27;, verbose=True)</pre><b>In a Jupyter environment, please rerun this cell to show the HTML representation or trust the notebook. <br />On GitHub, the HTML representation is unable to render, please try loading this page with nbviewer.org.</b></div><div class=\"sk-container\" hidden><div class=\"sk-item sk-dashed-wrapped\"><div class=\"sk-label-container\"><div class=\"sk-label sk-toggleable\"><input class=\"sk-toggleable__control sk-hidden--visually\" id=\"sk-estimator-id-19\" type=\"checkbox\" ><label for=\"sk-estimator-id-19\" class=\"sk-toggleable__label sk-toggleable__label-arrow\">GridSearchCV</label><div class=\"sk-toggleable__content\"><pre>GridSearchCV(cv=5, estimator=AdaBoostClassifier(), n_jobs=-1,\n",
       "             param_grid={&#x27;learning_rate&#x27;: [0.01, 0.05, 0.1, 0.2],\n",
       "                         &#x27;n_estimators&#x27;: [100, 150, 200]},\n",
       "             scoring=&#x27;accuracy&#x27;, verbose=True)</pre></div></div></div><div class=\"sk-parallel\"><div class=\"sk-parallel-item\"><div class=\"sk-item\"><div class=\"sk-label-container\"><div class=\"sk-label sk-toggleable\"><input class=\"sk-toggleable__control sk-hidden--visually\" id=\"sk-estimator-id-20\" type=\"checkbox\" ><label for=\"sk-estimator-id-20\" class=\"sk-toggleable__label sk-toggleable__label-arrow\">estimator: AdaBoostClassifier</label><div class=\"sk-toggleable__content\"><pre>AdaBoostClassifier()</pre></div></div></div><div class=\"sk-serial\"><div class=\"sk-item\"><div class=\"sk-estimator sk-toggleable\"><input class=\"sk-toggleable__control sk-hidden--visually\" id=\"sk-estimator-id-21\" type=\"checkbox\" ><label for=\"sk-estimator-id-21\" class=\"sk-toggleable__label sk-toggleable__label-arrow\">AdaBoostClassifier</label><div class=\"sk-toggleable__content\"><pre>AdaBoostClassifier()</pre></div></div></div></div></div></div></div></div></div></div>"
      ],
      "text/plain": [
       "GridSearchCV(cv=5, estimator=AdaBoostClassifier(), n_jobs=-1,\n",
       "             param_grid={'learning_rate': [0.01, 0.05, 0.1, 0.2],\n",
       "                         'n_estimators': [100, 150, 200]},\n",
       "             scoring='accuracy', verbose=True)"
      ]
     },
     "execution_count": 92,
     "metadata": {},
     "output_type": "execute_result"
    }
   ],
   "source": [
    "X_train_selected = X_train[feature_dict['AdaBoost']['columns']]\n",
    "\n",
    "n_estimators = [100, 150, 200]\n",
    "learning_rate = [0.01, 0.05, 0.1, 0.2]\n",
    "\n",
    "hyperparams = {\n",
    "    'n_estimators':n_estimators,\n",
    "    'learning_rate':learning_rate\n",
    "}\n",
    "\n",
    "ad_grid=GridSearchCV(\n",
    "    estimator=AdaBoostClassifier(),\n",
    "    param_grid=hyperparams, \n",
    "    verbose=True, \n",
    "    cv=5, \n",
    "    scoring=\"accuracy\", \n",
    "    n_jobs=-1)\n",
    "\n",
    "\n",
    "ad_grid.fit(X_train_selected, y_train)"
   ]
  },
  {
   "cell_type": "code",
   "execution_count": 93,
   "id": "neural-swaziland",
   "metadata": {},
   "outputs": [
    {
     "data": {
      "text/plain": [
       "{'learning_rate': 0.2, 'n_estimators': 200}"
      ]
     },
     "execution_count": 93,
     "metadata": {},
     "output_type": "execute_result"
    }
   ],
   "source": [
    "ad_grid.best_params_"
   ]
  },
  {
   "cell_type": "code",
   "execution_count": 96,
   "id": "italic-fifteen",
   "metadata": {},
   "outputs": [
    {
     "name": "stdout",
     "output_type": "stream",
     "text": [
      "Fitting 5 folds for each of 50 candidates, totalling 250 fits\n"
     ]
    },
    {
     "data": {
      "text/html": [
       "<style>#sk-container-id-8 {color: black;background-color: white;}#sk-container-id-8 pre{padding: 0;}#sk-container-id-8 div.sk-toggleable {background-color: white;}#sk-container-id-8 label.sk-toggleable__label {cursor: pointer;display: block;width: 100%;margin-bottom: 0;padding: 0.3em;box-sizing: border-box;text-align: center;}#sk-container-id-8 label.sk-toggleable__label-arrow:before {content: \"▸\";float: left;margin-right: 0.25em;color: #696969;}#sk-container-id-8 label.sk-toggleable__label-arrow:hover:before {color: black;}#sk-container-id-8 div.sk-estimator:hover label.sk-toggleable__label-arrow:before {color: black;}#sk-container-id-8 div.sk-toggleable__content {max-height: 0;max-width: 0;overflow: hidden;text-align: left;background-color: #f0f8ff;}#sk-container-id-8 div.sk-toggleable__content pre {margin: 0.2em;color: black;border-radius: 0.25em;background-color: #f0f8ff;}#sk-container-id-8 input.sk-toggleable__control:checked~div.sk-toggleable__content {max-height: 200px;max-width: 100%;overflow: auto;}#sk-container-id-8 input.sk-toggleable__control:checked~label.sk-toggleable__label-arrow:before {content: \"▾\";}#sk-container-id-8 div.sk-estimator input.sk-toggleable__control:checked~label.sk-toggleable__label {background-color: #d4ebff;}#sk-container-id-8 div.sk-label input.sk-toggleable__control:checked~label.sk-toggleable__label {background-color: #d4ebff;}#sk-container-id-8 input.sk-hidden--visually {border: 0;clip: rect(1px 1px 1px 1px);clip: rect(1px, 1px, 1px, 1px);height: 1px;margin: -1px;overflow: hidden;padding: 0;position: absolute;width: 1px;}#sk-container-id-8 div.sk-estimator {font-family: monospace;background-color: #f0f8ff;border: 1px dotted black;border-radius: 0.25em;box-sizing: border-box;margin-bottom: 0.5em;}#sk-container-id-8 div.sk-estimator:hover {background-color: #d4ebff;}#sk-container-id-8 div.sk-parallel-item::after {content: \"\";width: 100%;border-bottom: 1px solid gray;flex-grow: 1;}#sk-container-id-8 div.sk-label:hover label.sk-toggleable__label {background-color: #d4ebff;}#sk-container-id-8 div.sk-serial::before {content: \"\";position: absolute;border-left: 1px solid gray;box-sizing: border-box;top: 0;bottom: 0;left: 50%;z-index: 0;}#sk-container-id-8 div.sk-serial {display: flex;flex-direction: column;align-items: center;background-color: white;padding-right: 0.2em;padding-left: 0.2em;position: relative;}#sk-container-id-8 div.sk-item {position: relative;z-index: 1;}#sk-container-id-8 div.sk-parallel {display: flex;align-items: stretch;justify-content: center;background-color: white;position: relative;}#sk-container-id-8 div.sk-item::before, #sk-container-id-8 div.sk-parallel-item::before {content: \"\";position: absolute;border-left: 1px solid gray;box-sizing: border-box;top: 0;bottom: 0;left: 50%;z-index: -1;}#sk-container-id-8 div.sk-parallel-item {display: flex;flex-direction: column;z-index: 1;position: relative;background-color: white;}#sk-container-id-8 div.sk-parallel-item:first-child::after {align-self: flex-end;width: 50%;}#sk-container-id-8 div.sk-parallel-item:last-child::after {align-self: flex-start;width: 50%;}#sk-container-id-8 div.sk-parallel-item:only-child::after {width: 0;}#sk-container-id-8 div.sk-dashed-wrapped {border: 1px dashed gray;margin: 0 0.4em 0.5em 0.4em;box-sizing: border-box;padding-bottom: 0.4em;background-color: white;}#sk-container-id-8 div.sk-label label {font-family: monospace;font-weight: bold;display: inline-block;line-height: 1.2em;}#sk-container-id-8 div.sk-label-container {text-align: center;}#sk-container-id-8 div.sk-container {/* jupyter's `normalize.less` sets `[hidden] { display: none; }` but bootstrap.min.css set `[hidden] { display: none !important; }` so we also need the `!important` here to be able to override the default hidden behavior on the sphinx rendered scikit-learn.org. See: https://github.com/scikit-learn/scikit-learn/issues/21755 */display: inline-block !important;position: relative;}#sk-container-id-8 div.sk-text-repr-fallback {display: none;}</style><div id=\"sk-container-id-8\" class=\"sk-top-container\"><div class=\"sk-text-repr-fallback\"><pre>RandomizedSearchCV(cv=5, estimator=BaggingClassifier(n_jobs=-1), n_iter=50,\n",
       "                   n_jobs=-1,\n",
       "                   param_distributions={&#x27;max_features&#x27;: [0.1, 0.2, 0.5, 0.8,\n",
       "                                                         1.0],\n",
       "                                        &#x27;max_samples&#x27;: [0.1, 0.2, 0.5, 0.8,\n",
       "                                                        1.0],\n",
       "                                        &#x27;n_estimators&#x27;: [50, 100, 150]},\n",
       "                   random_state=0, verbose=3)</pre><b>In a Jupyter environment, please rerun this cell to show the HTML representation or trust the notebook. <br />On GitHub, the HTML representation is unable to render, please try loading this page with nbviewer.org.</b></div><div class=\"sk-container\" hidden><div class=\"sk-item sk-dashed-wrapped\"><div class=\"sk-label-container\"><div class=\"sk-label sk-toggleable\"><input class=\"sk-toggleable__control sk-hidden--visually\" id=\"sk-estimator-id-22\" type=\"checkbox\" ><label for=\"sk-estimator-id-22\" class=\"sk-toggleable__label sk-toggleable__label-arrow\">RandomizedSearchCV</label><div class=\"sk-toggleable__content\"><pre>RandomizedSearchCV(cv=5, estimator=BaggingClassifier(n_jobs=-1), n_iter=50,\n",
       "                   n_jobs=-1,\n",
       "                   param_distributions={&#x27;max_features&#x27;: [0.1, 0.2, 0.5, 0.8,\n",
       "                                                         1.0],\n",
       "                                        &#x27;max_samples&#x27;: [0.1, 0.2, 0.5, 0.8,\n",
       "                                                        1.0],\n",
       "                                        &#x27;n_estimators&#x27;: [50, 100, 150]},\n",
       "                   random_state=0, verbose=3)</pre></div></div></div><div class=\"sk-parallel\"><div class=\"sk-parallel-item\"><div class=\"sk-item\"><div class=\"sk-label-container\"><div class=\"sk-label sk-toggleable\"><input class=\"sk-toggleable__control sk-hidden--visually\" id=\"sk-estimator-id-23\" type=\"checkbox\" ><label for=\"sk-estimator-id-23\" class=\"sk-toggleable__label sk-toggleable__label-arrow\">estimator: BaggingClassifier</label><div class=\"sk-toggleable__content\"><pre>BaggingClassifier(n_jobs=-1)</pre></div></div></div><div class=\"sk-serial\"><div class=\"sk-item\"><div class=\"sk-estimator sk-toggleable\"><input class=\"sk-toggleable__control sk-hidden--visually\" id=\"sk-estimator-id-24\" type=\"checkbox\" ><label for=\"sk-estimator-id-24\" class=\"sk-toggleable__label sk-toggleable__label-arrow\">BaggingClassifier</label><div class=\"sk-toggleable__content\"><pre>BaggingClassifier(n_jobs=-1)</pre></div></div></div></div></div></div></div></div></div></div>"
      ],
      "text/plain": [
       "RandomizedSearchCV(cv=5, estimator=BaggingClassifier(n_jobs=-1), n_iter=50,\n",
       "                   n_jobs=-1,\n",
       "                   param_distributions={'max_features': [0.1, 0.2, 0.5, 0.8,\n",
       "                                                         1.0],\n",
       "                                        'max_samples': [0.1, 0.2, 0.5, 0.8,\n",
       "                                                        1.0],\n",
       "                                        'n_estimators': [50, 100, 150]},\n",
       "                   random_state=0, verbose=3)"
      ]
     },
     "execution_count": 96,
     "metadata": {},
     "output_type": "execute_result"
    }
   ],
   "source": [
    "X_train_selected = X_train[feature_dict['Bagging Classifier']['columns']]\n",
    "\n",
    "n_estimators = [50, 100, 150]\n",
    "max_samples = [0.1, 0.2, 0.5, 0.8, 1.0]\n",
    "max_features = [0.1, 0.2, 0.5, 0.8, 1.0]\n",
    "\n",
    "random_grid = {\n",
    "    'n_estimators':n_estimators,\n",
    "    'max_samples':max_samples,\n",
    "    'max_features':max_features\n",
    "}\n",
    "\n",
    "ba_random = RandomizedSearchCV(\n",
    "    estimator=BaggingClassifier(n_jobs=-1), \n",
    "    param_distributions=random_grid, \n",
    "    n_iter=50, \n",
    "    cv=5, \n",
    "    verbose=3, \n",
    "    random_state=0, \n",
    "    n_jobs=-1\n",
    ")\n",
    "\n",
    "ba_random.fit(X_train_selected, y_train)"
   ]
  },
  {
   "cell_type": "code",
   "execution_count": 97,
   "id": "pediatric-energy",
   "metadata": {},
   "outputs": [
    {
     "data": {
      "text/plain": [
       "{'n_estimators': 150, 'max_samples': 0.2, 'max_features': 1.0}"
      ]
     },
     "execution_count": 97,
     "metadata": {},
     "output_type": "execute_result"
    }
   ],
   "source": [
    "ba_random.best_params_"
   ]
  },
  {
   "cell_type": "code",
   "execution_count": 114,
   "id": "separated-boundary",
   "metadata": {},
   "outputs": [
    {
     "name": "stdout",
     "output_type": "stream",
     "text": [
      "Fitting 10 folds for each of 100 candidates, totalling 1000 fits\n"
     ]
    },
    {
     "data": {
      "text/html": [
       "<style>#sk-container-id-12 {color: black;background-color: white;}#sk-container-id-12 pre{padding: 0;}#sk-container-id-12 div.sk-toggleable {background-color: white;}#sk-container-id-12 label.sk-toggleable__label {cursor: pointer;display: block;width: 100%;margin-bottom: 0;padding: 0.3em;box-sizing: border-box;text-align: center;}#sk-container-id-12 label.sk-toggleable__label-arrow:before {content: \"▸\";float: left;margin-right: 0.25em;color: #696969;}#sk-container-id-12 label.sk-toggleable__label-arrow:hover:before {color: black;}#sk-container-id-12 div.sk-estimator:hover label.sk-toggleable__label-arrow:before {color: black;}#sk-container-id-12 div.sk-toggleable__content {max-height: 0;max-width: 0;overflow: hidden;text-align: left;background-color: #f0f8ff;}#sk-container-id-12 div.sk-toggleable__content pre {margin: 0.2em;color: black;border-radius: 0.25em;background-color: #f0f8ff;}#sk-container-id-12 input.sk-toggleable__control:checked~div.sk-toggleable__content {max-height: 200px;max-width: 100%;overflow: auto;}#sk-container-id-12 input.sk-toggleable__control:checked~label.sk-toggleable__label-arrow:before {content: \"▾\";}#sk-container-id-12 div.sk-estimator input.sk-toggleable__control:checked~label.sk-toggleable__label {background-color: #d4ebff;}#sk-container-id-12 div.sk-label input.sk-toggleable__control:checked~label.sk-toggleable__label {background-color: #d4ebff;}#sk-container-id-12 input.sk-hidden--visually {border: 0;clip: rect(1px 1px 1px 1px);clip: rect(1px, 1px, 1px, 1px);height: 1px;margin: -1px;overflow: hidden;padding: 0;position: absolute;width: 1px;}#sk-container-id-12 div.sk-estimator {font-family: monospace;background-color: #f0f8ff;border: 1px dotted black;border-radius: 0.25em;box-sizing: border-box;margin-bottom: 0.5em;}#sk-container-id-12 div.sk-estimator:hover {background-color: #d4ebff;}#sk-container-id-12 div.sk-parallel-item::after {content: \"\";width: 100%;border-bottom: 1px solid gray;flex-grow: 1;}#sk-container-id-12 div.sk-label:hover label.sk-toggleable__label {background-color: #d4ebff;}#sk-container-id-12 div.sk-serial::before {content: \"\";position: absolute;border-left: 1px solid gray;box-sizing: border-box;top: 0;bottom: 0;left: 50%;z-index: 0;}#sk-container-id-12 div.sk-serial {display: flex;flex-direction: column;align-items: center;background-color: white;padding-right: 0.2em;padding-left: 0.2em;position: relative;}#sk-container-id-12 div.sk-item {position: relative;z-index: 1;}#sk-container-id-12 div.sk-parallel {display: flex;align-items: stretch;justify-content: center;background-color: white;position: relative;}#sk-container-id-12 div.sk-item::before, #sk-container-id-12 div.sk-parallel-item::before {content: \"\";position: absolute;border-left: 1px solid gray;box-sizing: border-box;top: 0;bottom: 0;left: 50%;z-index: -1;}#sk-container-id-12 div.sk-parallel-item {display: flex;flex-direction: column;z-index: 1;position: relative;background-color: white;}#sk-container-id-12 div.sk-parallel-item:first-child::after {align-self: flex-end;width: 50%;}#sk-container-id-12 div.sk-parallel-item:last-child::after {align-self: flex-start;width: 50%;}#sk-container-id-12 div.sk-parallel-item:only-child::after {width: 0;}#sk-container-id-12 div.sk-dashed-wrapped {border: 1px dashed gray;margin: 0 0.4em 0.5em 0.4em;box-sizing: border-box;padding-bottom: 0.4em;background-color: white;}#sk-container-id-12 div.sk-label label {font-family: monospace;font-weight: bold;display: inline-block;line-height: 1.2em;}#sk-container-id-12 div.sk-label-container {text-align: center;}#sk-container-id-12 div.sk-container {/* jupyter's `normalize.less` sets `[hidden] { display: none; }` but bootstrap.min.css set `[hidden] { display: none !important; }` so we also need the `!important` here to be able to override the default hidden behavior on the sphinx rendered scikit-learn.org. See: https://github.com/scikit-learn/scikit-learn/issues/21755 */display: inline-block !important;position: relative;}#sk-container-id-12 div.sk-text-repr-fallback {display: none;}</style><div id=\"sk-container-id-12\" class=\"sk-top-container\"><div class=\"sk-text-repr-fallback\"><pre>GridSearchCV(cv=10, estimator=GaussianNB(), n_jobs=-1,\n",
       "             param_grid={&#x27;var_smoothing&#x27;: array([1.00000000e+00, 8.11130831e-01, 6.57933225e-01, 5.33669923e-01,\n",
       "       4.32876128e-01, 3.51119173e-01, 2.84803587e-01, 2.31012970e-01,\n",
       "       1.87381742e-01, 1.51991108e-01, 1.23284674e-01, 1.00000000e-01,\n",
       "       8.11130831e-02, 6.57933225e-02, 5.33669923e-02, 4.32876128e-02,\n",
       "       3.51119173e-02, 2.848035...\n",
       "       1.23284674e-07, 1.00000000e-07, 8.11130831e-08, 6.57933225e-08,\n",
       "       5.33669923e-08, 4.32876128e-08, 3.51119173e-08, 2.84803587e-08,\n",
       "       2.31012970e-08, 1.87381742e-08, 1.51991108e-08, 1.23284674e-08,\n",
       "       1.00000000e-08, 8.11130831e-09, 6.57933225e-09, 5.33669923e-09,\n",
       "       4.32876128e-09, 3.51119173e-09, 2.84803587e-09, 2.31012970e-09,\n",
       "       1.87381742e-09, 1.51991108e-09, 1.23284674e-09, 1.00000000e-09])},\n",
       "             scoring=&#x27;accuracy&#x27;, verbose=True)</pre><b>In a Jupyter environment, please rerun this cell to show the HTML representation or trust the notebook. <br />On GitHub, the HTML representation is unable to render, please try loading this page with nbviewer.org.</b></div><div class=\"sk-container\" hidden><div class=\"sk-item sk-dashed-wrapped\"><div class=\"sk-label-container\"><div class=\"sk-label sk-toggleable\"><input class=\"sk-toggleable__control sk-hidden--visually\" id=\"sk-estimator-id-34\" type=\"checkbox\" ><label for=\"sk-estimator-id-34\" class=\"sk-toggleable__label sk-toggleable__label-arrow\">GridSearchCV</label><div class=\"sk-toggleable__content\"><pre>GridSearchCV(cv=10, estimator=GaussianNB(), n_jobs=-1,\n",
       "             param_grid={&#x27;var_smoothing&#x27;: array([1.00000000e+00, 8.11130831e-01, 6.57933225e-01, 5.33669923e-01,\n",
       "       4.32876128e-01, 3.51119173e-01, 2.84803587e-01, 2.31012970e-01,\n",
       "       1.87381742e-01, 1.51991108e-01, 1.23284674e-01, 1.00000000e-01,\n",
       "       8.11130831e-02, 6.57933225e-02, 5.33669923e-02, 4.32876128e-02,\n",
       "       3.51119173e-02, 2.848035...\n",
       "       1.23284674e-07, 1.00000000e-07, 8.11130831e-08, 6.57933225e-08,\n",
       "       5.33669923e-08, 4.32876128e-08, 3.51119173e-08, 2.84803587e-08,\n",
       "       2.31012970e-08, 1.87381742e-08, 1.51991108e-08, 1.23284674e-08,\n",
       "       1.00000000e-08, 8.11130831e-09, 6.57933225e-09, 5.33669923e-09,\n",
       "       4.32876128e-09, 3.51119173e-09, 2.84803587e-09, 2.31012970e-09,\n",
       "       1.87381742e-09, 1.51991108e-09, 1.23284674e-09, 1.00000000e-09])},\n",
       "             scoring=&#x27;accuracy&#x27;, verbose=True)</pre></div></div></div><div class=\"sk-parallel\"><div class=\"sk-parallel-item\"><div class=\"sk-item\"><div class=\"sk-label-container\"><div class=\"sk-label sk-toggleable\"><input class=\"sk-toggleable__control sk-hidden--visually\" id=\"sk-estimator-id-35\" type=\"checkbox\" ><label for=\"sk-estimator-id-35\" class=\"sk-toggleable__label sk-toggleable__label-arrow\">estimator: GaussianNB</label><div class=\"sk-toggleable__content\"><pre>GaussianNB()</pre></div></div></div><div class=\"sk-serial\"><div class=\"sk-item\"><div class=\"sk-estimator sk-toggleable\"><input class=\"sk-toggleable__control sk-hidden--visually\" id=\"sk-estimator-id-36\" type=\"checkbox\" ><label for=\"sk-estimator-id-36\" class=\"sk-toggleable__label sk-toggleable__label-arrow\">GaussianNB</label><div class=\"sk-toggleable__content\"><pre>GaussianNB()</pre></div></div></div></div></div></div></div></div></div></div>"
      ],
      "text/plain": [
       "GridSearchCV(cv=10, estimator=GaussianNB(), n_jobs=-1,\n",
       "             param_grid={'var_smoothing': array([1.00000000e+00, 8.11130831e-01, 6.57933225e-01, 5.33669923e-01,\n",
       "       4.32876128e-01, 3.51119173e-01, 2.84803587e-01, 2.31012970e-01,\n",
       "       1.87381742e-01, 1.51991108e-01, 1.23284674e-01, 1.00000000e-01,\n",
       "       8.11130831e-02, 6.57933225e-02, 5.33669923e-02, 4.32876128e-02,\n",
       "       3.51119173e-02, 2.848035...\n",
       "       1.23284674e-07, 1.00000000e-07, 8.11130831e-08, 6.57933225e-08,\n",
       "       5.33669923e-08, 4.32876128e-08, 3.51119173e-08, 2.84803587e-08,\n",
       "       2.31012970e-08, 1.87381742e-08, 1.51991108e-08, 1.23284674e-08,\n",
       "       1.00000000e-08, 8.11130831e-09, 6.57933225e-09, 5.33669923e-09,\n",
       "       4.32876128e-09, 3.51119173e-09, 2.84803587e-09, 2.31012970e-09,\n",
       "       1.87381742e-09, 1.51991108e-09, 1.23284674e-09, 1.00000000e-09])},\n",
       "             scoring='accuracy', verbose=True)"
      ]
     },
     "execution_count": 114,
     "metadata": {},
     "output_type": "execute_result"
    }
   ],
   "source": [
    "X_train_selected = X_train[feature_dict['Gaussian Naive Bayes']['columns']]\n",
    "\n",
    "var_smoothing = np.logspace(0, -9, num=100)\n",
    "\n",
    "hyperparams = {\n",
    "    'var_smoothing': var_smoothing\n",
    "}\n",
    "\n",
    "nb_grid=GridSearchCV(\n",
    "    estimator=GaussianNB(),\n",
    "    param_grid=hyperparams, \n",
    "    verbose=True, \n",
    "    cv=10, \n",
    "    scoring=\"accuracy\", \n",
    "    n_jobs=-1)\n",
    "\n",
    "nb_grid.fit(X_train_selected, y_train)"
   ]
  },
  {
   "cell_type": "code",
   "execution_count": 115,
   "id": "chief-scout",
   "metadata": {},
   "outputs": [
    {
     "data": {
      "text/plain": [
       "{'var_smoothing': 0.0023101297000831605}"
      ]
     },
     "execution_count": 115,
     "metadata": {},
     "output_type": "execute_result"
    }
   ],
   "source": [
    "nb_grid.best_params_"
   ]
  },
  {
   "cell_type": "code",
   "execution_count": 58,
   "id": "fundamental-uganda",
   "metadata": {},
   "outputs": [],
   "source": [
    "load, save = True, False\n",
    "\n",
    "if load:\n",
    "    with open('data/best_params', 'rb') as fp:\n",
    "        best_params = pickle.load(fp)\n",
    "\n",
    "else:\n",
    "    best_params = {\n",
    "        'Random Forest':rf_random.best_params_,\n",
    "        'Logistic Regression':lr_grid.best_params_, \n",
    "        'XGBoost':xg_random.best_params_,\n",
    "        'LightGBM':lg_random.best_params_, \n",
    "        'Extra Trees':ex_random.best_params_, \n",
    "        'AdaBoost':ad_grid.best_params_,\n",
    "        'Bagging Classifier':ba_random.best_params_,\n",
    "        'Gaussian Naive Bayes':nb_grid.best_params_\n",
    "    }\n",
    "\n",
    "if save:\n",
    "    with open('data/best_params', 'wb') as fp:\n",
    "        pickle.dump(best_params, fp)    \n",
    "    \n",
    "models = {\n",
    "    'Random Forest':RandomForestClassifier(n_jobs=-1, **best_params['Random Forest']), \n",
    "    'Logistic Regression':LogisticRegression(n_jobs=-1, **best_params['Logistic Regression']), \n",
    "    'XGBoost':XGBClassifier(eval_metric='logloss', n_jobs=-1, **best_params['XGBoost']),\n",
    "    'LightGBM':LGBMClassifier(n_jobs=-1, **best_params['LightGBM']), \n",
    "    'Extra Trees':ExtraTreesClassifier(n_jobs=-1, **best_params['Extra Trees']), \n",
    "    'AdaBoost':AdaBoostClassifier(**best_params['AdaBoost']),\n",
    "    'Bagging Classifier':BaggingClassifier(n_jobs=-1, **best_params['Bagging Classifier']),\n",
    "    'Gaussian Naive Bayes':GaussianNB(**best_params['Gaussian Naive Bayes'])\n",
    "}"
   ]
  },
  {
   "cell_type": "code",
   "execution_count": 59,
   "id": "professional-laptop",
   "metadata": {},
   "outputs": [
    {
     "name": "stdout",
     "output_type": "stream",
     "text": [
      "Random Forest\n",
      "Mean train accuracy: 0.9606, std: 0.0003.\n",
      "Mean valid accuracy: 0.7930, std: 0.0036.\n",
      "Time Spent: 75.827 sec\n",
      "\n",
      "Logistic Regression\n",
      "Mean train accuracy: 0.8024, std: 0.0005.\n",
      "Mean valid accuracy: 0.8020, std: 0.0048.\n",
      "Time Spent: 8.691 sec\n",
      "\n",
      "XGBoost\n",
      "Mean train accuracy: 0.8319, std: 0.0009.\n",
      "Mean valid accuracy: 0.8008, std: 0.0034.\n",
      "Time Spent: 76.173 sec\n",
      "\n",
      "LightGBM\n",
      "Mean train accuracy: 0.8260, std: 0.0006.\n",
      "Mean valid accuracy: 0.8008, std: 0.0031.\n",
      "Time Spent: 33.845 sec\n",
      "\n",
      "Extra Trees\n",
      "Mean train accuracy: 0.9253, std: 0.0005.\n",
      "Mean valid accuracy: 0.7953, std: 0.0043.\n",
      "Time Spent: 103.309 sec\n",
      "\n",
      "AdaBoost\n",
      "Mean train accuracy: 0.8007, std: 0.0004.\n",
      "Mean valid accuracy: 0.7985, std: 0.0040.\n",
      "Time Spent: 161.752 sec\n",
      "\n",
      "Bagging Classifier\n",
      "Mean train accuracy: 0.8766, std: 0.0008.\n",
      "Mean valid accuracy: 0.7960, std: 0.0038.\n",
      "Time Spent: 503.976 sec\n",
      "\n",
      "Gaussian Naive Bayes\n",
      "Mean train accuracy: 0.7910, std: 0.0003.\n",
      "Mean valid accuracy: 0.7910, std: 0.0035.\n",
      "Time Spent: 1.292 sec\n",
      "\n"
     ]
    }
   ],
   "source": [
    "tuning_result = {\n",
    "    'model':[],\n",
    "    'time_spent':[],\n",
    "    'mean_valid_accuracy':[]\n",
    "}\n",
    "\n",
    "for name, model in models.items():\n",
    "    tuning_result['model'].append(name)\n",
    "    print(name)\n",
    "    \n",
    "    start_time = time.time()\n",
    "    X_train_selected = X_train[feature_dict[name]['columns']].values\n",
    "    acc = train_model(X_train_selected, y_train, model=model)\n",
    "    end_time = time.time()\n",
    "    \n",
    "    tuning_result['mean_valid_accuracy'].append(acc)\n",
    "    tuning_result['time_spent'].append(end_time-start_time)\n",
    "    \n",
    "    print(f'Time Spent: {end_time-start_time:.3f} sec')\n",
    "    print('')\n",
    "\n",
    "tuning_result = pd.DataFrame(tuning_result).sort_values('mean_valid_accuracy', ascending=False)"
   ]
  },
  {
   "cell_type": "code",
   "execution_count": 60,
   "id": "detailed-definition",
   "metadata": {},
   "outputs": [
    {
     "data": {
      "text/html": [
       "<div>\n",
       "<style scoped>\n",
       "    .dataframe tbody tr th:only-of-type {\n",
       "        vertical-align: middle;\n",
       "    }\n",
       "\n",
       "    .dataframe tbody tr th {\n",
       "        vertical-align: top;\n",
       "    }\n",
       "\n",
       "    .dataframe thead th {\n",
       "        text-align: right;\n",
       "    }\n",
       "</style>\n",
       "<table border=\"1\" class=\"dataframe\">\n",
       "  <thead>\n",
       "    <tr style=\"text-align: right;\">\n",
       "      <th></th>\n",
       "      <th>model</th>\n",
       "      <th>time_spent</th>\n",
       "      <th>mean_valid_accuracy</th>\n",
       "    </tr>\n",
       "  </thead>\n",
       "  <tbody>\n",
       "    <tr>\n",
       "      <th>1</th>\n",
       "      <td>Logistic Regression</td>\n",
       "      <td>8.690927</td>\n",
       "      <td>0.802032</td>\n",
       "    </tr>\n",
       "    <tr>\n",
       "      <th>3</th>\n",
       "      <td>LightGBM</td>\n",
       "      <td>33.845495</td>\n",
       "      <td>0.800841</td>\n",
       "    </tr>\n",
       "    <tr>\n",
       "      <th>2</th>\n",
       "      <td>XGBoost</td>\n",
       "      <td>76.173326</td>\n",
       "      <td>0.800762</td>\n",
       "    </tr>\n",
       "    <tr>\n",
       "      <th>5</th>\n",
       "      <td>AdaBoost</td>\n",
       "      <td>161.751506</td>\n",
       "      <td>0.798492</td>\n",
       "    </tr>\n",
       "    <tr>\n",
       "      <th>6</th>\n",
       "      <td>Bagging Classifier</td>\n",
       "      <td>503.975692</td>\n",
       "      <td>0.795952</td>\n",
       "    </tr>\n",
       "    <tr>\n",
       "      <th>4</th>\n",
       "      <td>Extra Trees</td>\n",
       "      <td>103.308813</td>\n",
       "      <td>0.795349</td>\n",
       "    </tr>\n",
       "    <tr>\n",
       "      <th>0</th>\n",
       "      <td>Random Forest</td>\n",
       "      <td>75.826520</td>\n",
       "      <td>0.793048</td>\n",
       "    </tr>\n",
       "    <tr>\n",
       "      <th>7</th>\n",
       "      <td>Gaussian Naive Bayes</td>\n",
       "      <td>1.291524</td>\n",
       "      <td>0.790968</td>\n",
       "    </tr>\n",
       "  </tbody>\n",
       "</table>\n",
       "</div>"
      ],
      "text/plain": [
       "                  model  time_spent  mean_valid_accuracy\n",
       "1   Logistic Regression    8.690927             0.802032\n",
       "3              LightGBM   33.845495             0.800841\n",
       "2               XGBoost   76.173326             0.800762\n",
       "5              AdaBoost  161.751506             0.798492\n",
       "6    Bagging Classifier  503.975692             0.795952\n",
       "4           Extra Trees  103.308813             0.795349\n",
       "0         Random Forest   75.826520             0.793048\n",
       "7  Gaussian Naive Bayes    1.291524             0.790968"
      ]
     },
     "execution_count": 60,
     "metadata": {},
     "output_type": "execute_result"
    }
   ],
   "source": [
    "tuning_result"
   ]
  },
  {
   "cell_type": "markdown",
   "id": "adjacent-produce",
   "metadata": {},
   "source": [
    "Logistic Regression을 이용한 모델이 가장 우수한 성능을 기록하였다. "
   ]
  },
  {
   "cell_type": "code",
   "execution_count": 61,
   "id": "former-hampton",
   "metadata": {},
   "outputs": [
    {
     "name": "stdout",
     "output_type": "stream",
     "text": [
      "0.8019\n"
     ]
    }
   ],
   "source": [
    "y_pred = models['Logistic Regression'].predict(X_test[feature_dict['Logistic Regression']['columns']])\n",
    "\n",
    "print(f'{accuracy_score(y_test, y_pred):.4f}')"
   ]
  },
  {
   "cell_type": "markdown",
   "id": "joint-aquatic",
   "metadata": {},
   "source": [
    "Test set 에서의 정확도는 0.8019 이다."
   ]
  },
  {
   "cell_type": "markdown",
   "id": "structural-puppy",
   "metadata": {},
   "source": [
    "### Explanation"
   ]
  },
  {
   "cell_type": "code",
   "execution_count": 66,
   "id": "sonic-blond",
   "metadata": {},
   "outputs": [],
   "source": [
    "model = models['Logistic Regression']\n",
    "features = feature_dict['Logistic Regression']['columns']\n",
    "X_train_selected, X_test_selected = X_train[features], X_test[features]"
   ]
  },
  {
   "cell_type": "code",
   "execution_count": 68,
   "id": "white-probe",
   "metadata": {},
   "outputs": [
    {
     "data": {
      "image/png": "[encoded data removed]",
      "text/plain": [
       "<Figure size 432x288 with 1 Axes>"
      ]
     },
     "metadata": {
      "needs_background": "light"
     },
     "output_type": "display_data"
    }
   ],
   "source": [
    "fi = {'Features':features, 'Coefficient':model.coef_[0]}\n",
    "importance = pd.DataFrame(fi, index=fi['Features']).sort_values('Coefficient', ascending=True)\n",
    "importance.tail(10).plot(kind='barh');"
   ]
  },
  {
   "cell_type": "markdown",
   "id": "indoor-colorado",
   "metadata": {},
   "source": [
    "위는 로지스틱 회귀 모델의 항목 별 회귀 계수가 가장 높은 항목 10개 이다. \n",
    "\n",
    "골드 관련 지표들이 회귀계수가 가장 높으며, 드래곤 및 레벨 등이 뒤를 잇고 있다."
   ]
  },
  {
   "cell_type": "code",
   "execution_count": 69,
   "id": "earned-argument",
   "metadata": {},
   "outputs": [
    {
     "data": {
      "image/png": "[encoded data removed]",
      "text/plain": [
       "<Figure size 432x288 with 1 Axes>"
      ]
     },
     "metadata": {
      "needs_background": "light"
     },
     "output_type": "display_data"
    }
   ],
   "source": [
    "fi = {'Features':features, 'Coefficient':model.coef_[0]}\n",
    "importance = pd.DataFrame(fi, index=fi['Features']).sort_values('Coefficient', ascending=True)\n",
    "importance.head(10).plot(kind='barh');"
   ]
  },
  {
   "cell_type": "markdown",
   "id": "tropical-briefing",
   "metadata": {},
   "source": [
    "위는 계수가 음수인 항목들 중 절대값이 큰 10개 항목이다.\n",
    "\n",
    "`SupRatio`는 해당 챔피언이 상대 동 포지션보다 15분 골드를 더 많이 벌 확률인데, 간단히게 표현하면 라인전을 이길 확률이다. 일반적으로 라인전이 약한 챔피언들은 성장 잠재력이 크다는 점이 반영되는 것 같다.\n",
    "\n",
    "블루팀 서포터의 CS에서 레드팀 서포터의 CS를 뺀 값인 `blueUtilityCSDiff`의 계수가 음수인 점이 특이하다."
   ]
  },
  {
   "cell_type": "code",
   "execution_count": 70,
   "id": "turkish-section",
   "metadata": {},
   "outputs": [
    {
     "data": {
      "image/png": "[encoded data removed]",
      "text/plain": [
       "<Figure size 576x684 with 2 Axes>"
      ]
     },
     "metadata": {
      "needs_background": "light"
     },
     "output_type": "display_data"
    }
   ],
   "source": [
    "explainer = shap.LinearExplainer(model, X_test_selected)\n",
    "shap_values = explainer(X_test_selected)\n",
    "\n",
    "shap.plots.beeswarm(shap_values, max_display=20)"
   ]
  },
  {
   "cell_type": "markdown",
   "id": "outdoor-bubble",
   "metadata": {},
   "source": [
    "위 그래프는 항목이 예측에 영향을 미치는 정도를 나타낸다. 회귀계수와 마찬가지로 골드 관련 지표들이 전체적으로 영향력이 크다."
   ]
  },
  {
   "cell_type": "code",
   "execution_count": 71,
   "id": "contained-compiler",
   "metadata": {},
   "outputs": [
    {
     "data": {
      "image/png": "[encoded data removed]",
      "text/plain": [
       "<Figure size 1656x792 with 1 Axes>"
      ]
     },
     "metadata": {
      "needs_background": "light"
     },
     "output_type": "display_data"
    }
   ],
   "source": [
    "dt = DecisionTreeRegressor(random_state=0, max_depth=3)\n",
    "dt.fit(X_test_selected, y_pred)\n",
    "\n",
    "fig, ax = plt.subplots(figsize=(23, 11))\n",
    "plot_tree(dt, feature_names=features, precision=3, \n",
    "           filled=True, fontsize=12, impurity=True);"
   ]
  },
  {
   "cell_type": "markdown",
   "id": "dangerous-visitor",
   "metadata": {},
   "source": [
    "다음은 Decision Tree를 이용해 모델이 데이터를 분류한 기준을 알아보았다. `blueTotalGoldDiff`(팀 골드 차이)를 가장 우선적으로 고려하며, 골드 차이가 일정 범위 내에 위치할 시, `blueTotalDragonKillDiff`(드래곤 처치 횟수 차이)를 고려한다."
   ]
  },
  {
   "cell_type": "code",
   "execution_count": 72,
   "id": "obvious-gender",
   "metadata": {},
   "outputs": [
    {
     "data": {
      "image/png": "[encoded data removed]",
      "text/plain": [
       "<Figure size 432x288 with 2 Axes>"
      ]
     },
     "metadata": {
      "needs_background": "light"
     },
     "output_type": "display_data"
    }
   ],
   "source": [
    "PartialDependenceDisplay.from_estimator(model, X_test_selected, [(0,5)]);"
   ]
  },
  {
   "cell_type": "markdown",
   "id": "academic-jesus",
   "metadata": {},
   "source": [
    "다음은 팀 골드 차이와 드래곤 처치 횟수 차이 간의 partial dependence plot 이다. 골드 획득량이 적어도 드래곤 처치 횟수가 많다면 이를 상쇄해주는 것을 확인할 수 있다."
   ]
  }
 ],
 "metadata": {
  "kernelspec": {
   "display_name": "Python 3",
   "language": "python",
   "name": "python3"
  },
  "language_info": {
   "codemirror_mode": {
    "name": "ipython",
    "version": 3
   },
   "file_extension": ".py",
   "mimetype": "text/x-python",
   "name": "python",
   "nbconvert_exporter": "python",
   "pygments_lexer": "ipython3",
   "version": "3.8.8"
  }
 },
 "nbformat": 4,
 "nbformat_minor": 5
}
